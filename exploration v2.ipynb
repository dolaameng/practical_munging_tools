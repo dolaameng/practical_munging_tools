{
 "metadata": {
  "name": "",
  "signature": "sha256:bf1c8ddede9ee3e66b4a89a9ec5f80d5dc9b349ec4fc83c0c4bb1987adb7d998"
 },
 "nbformat": 3,
 "nbformat_minor": 0,
 "worksheets": [
  {
   "cells": [
    {
     "cell_type": "code",
     "collapsed": false,
     "input": [
      "%load_ext autoreload\n",
      "%autoreload 2\n",
      "%matplotlib inline"
     ],
     "language": "python",
     "metadata": {},
     "outputs": [],
     "prompt_number": 1
    },
    {
     "cell_type": "code",
     "collapsed": false,
     "input": [
      "from munging import session\n",
      "from munging import transform\n",
      "\n",
      "\n",
      "import matplotlib.pyplot as plt\n",
      "import pandas as pd\n",
      "import numpy as np\n",
      "from scipy import stats\n",
      "from sklearn.cross_validation import train_test_split"
     ],
     "language": "python",
     "metadata": {},
     "outputs": [],
     "prompt_number": 2
    },
    {
     "cell_type": "code",
     "collapsed": false,
     "input": [
      "## load data\n",
      "custdata = pd.read_table(\"data/orange_small_train.data.gz\", \n",
      "                         compression=\"gzip\", na_values=[\"NA\", \"\"], \n",
      "                         delimiter = \"\\t\", header = 0)\n",
      "churn = np.loadtxt(\"data/orange_small_train_churn.labels.txt\")\n",
      "custdata[\"Churn\"] = np.where(churn==1, \"churn\", \"nochurn\")\n",
      "custdata.head(n = 3)"
     ],
     "language": "python",
     "metadata": {},
     "outputs": [
      {
       "html": [
        "<div style=\"max-height:1000px;max-width:1500px;overflow:auto;\">\n",
        "<table border=\"1\" class=\"dataframe\">\n",
        "  <thead>\n",
        "    <tr style=\"text-align: right;\">\n",
        "      <th></th>\n",
        "      <th>Var1</th>\n",
        "      <th>Var2</th>\n",
        "      <th>Var3</th>\n",
        "      <th>Var4</th>\n",
        "      <th>Var5</th>\n",
        "      <th>Var6</th>\n",
        "      <th>Var7</th>\n",
        "      <th>Var8</th>\n",
        "      <th>Var9</th>\n",
        "      <th>Var10</th>\n",
        "      <th>...</th>\n",
        "      <th>Var222</th>\n",
        "      <th>Var223</th>\n",
        "      <th>Var224</th>\n",
        "      <th>Var225</th>\n",
        "      <th>Var226</th>\n",
        "      <th>Var227</th>\n",
        "      <th>Var228</th>\n",
        "      <th>Var229</th>\n",
        "      <th>Var230</th>\n",
        "      <th>Churn</th>\n",
        "    </tr>\n",
        "  </thead>\n",
        "  <tbody>\n",
        "    <tr>\n",
        "      <th>0</th>\n",
        "      <td>NaN</td>\n",
        "      <td>NaN</td>\n",
        "      <td>NaN</td>\n",
        "      <td>NaN</td>\n",
        "      <td>NaN</td>\n",
        "      <td> 1526</td>\n",
        "      <td> 7</td>\n",
        "      <td>NaN</td>\n",
        "      <td>NaN</td>\n",
        "      <td>NaN</td>\n",
        "      <td>...</td>\n",
        "      <td> fXVEsaq</td>\n",
        "      <td> jySVZNlOJy</td>\n",
        "      <td> NaN</td>\n",
        "      <td>  NaN</td>\n",
        "      <td> xb3V</td>\n",
        "      <td>    RAYp</td>\n",
        "      <td> F2FyR07IdsN7I</td>\n",
        "      <td>  NaN</td>\n",
        "      <td>NaN</td>\n",
        "      <td> nochurn</td>\n",
        "    </tr>\n",
        "    <tr>\n",
        "      <th>1</th>\n",
        "      <td>NaN</td>\n",
        "      <td>NaN</td>\n",
        "      <td>NaN</td>\n",
        "      <td>NaN</td>\n",
        "      <td>NaN</td>\n",
        "      <td>  525</td>\n",
        "      <td> 0</td>\n",
        "      <td>NaN</td>\n",
        "      <td>NaN</td>\n",
        "      <td>NaN</td>\n",
        "      <td>...</td>\n",
        "      <td> 2Kb5FSF</td>\n",
        "      <td> LM8l689qOp</td>\n",
        "      <td> NaN</td>\n",
        "      <td>  NaN</td>\n",
        "      <td> fKCe</td>\n",
        "      <td>    RAYp</td>\n",
        "      <td> F2FyR07IdsN7I</td>\n",
        "      <td>  NaN</td>\n",
        "      <td>NaN</td>\n",
        "      <td>   churn</td>\n",
        "    </tr>\n",
        "    <tr>\n",
        "      <th>2</th>\n",
        "      <td>NaN</td>\n",
        "      <td>NaN</td>\n",
        "      <td>NaN</td>\n",
        "      <td>NaN</td>\n",
        "      <td>NaN</td>\n",
        "      <td> 5236</td>\n",
        "      <td> 7</td>\n",
        "      <td>NaN</td>\n",
        "      <td>NaN</td>\n",
        "      <td>NaN</td>\n",
        "      <td>...</td>\n",
        "      <td> NKv4yOc</td>\n",
        "      <td> jySVZNlOJy</td>\n",
        "      <td> NaN</td>\n",
        "      <td> kG3k</td>\n",
        "      <td> Qu4f</td>\n",
        "      <td> 02N6s8f</td>\n",
        "      <td> ib5G6X1eUxUn6</td>\n",
        "      <td> am7c</td>\n",
        "      <td>NaN</td>\n",
        "      <td> nochurn</td>\n",
        "    </tr>\n",
        "  </tbody>\n",
        "</table>\n",
        "<p>3 rows \u00d7 231 columns</p>\n",
        "</div>"
       ],
       "metadata": {},
       "output_type": "pyout",
       "prompt_number": 3,
       "text": [
        "   Var1  Var2  Var3  Var4  Var5  Var6  Var7  Var8  Var9  Var10  ...    \\\n",
        "0   NaN   NaN   NaN   NaN   NaN  1526     7   NaN   NaN    NaN  ...     \n",
        "1   NaN   NaN   NaN   NaN   NaN   525     0   NaN   NaN    NaN  ...     \n",
        "2   NaN   NaN   NaN   NaN   NaN  5236     7   NaN   NaN    NaN  ...     \n",
        "\n",
        "    Var222      Var223  Var224  Var225  Var226   Var227         Var228  \\\n",
        "0  fXVEsaq  jySVZNlOJy     NaN     NaN    xb3V     RAYp  F2FyR07IdsN7I   \n",
        "1  2Kb5FSF  LM8l689qOp     NaN     NaN    fKCe     RAYp  F2FyR07IdsN7I   \n",
        "2  NKv4yOc  jySVZNlOJy     NaN    kG3k    Qu4f  02N6s8f  ib5G6X1eUxUn6   \n",
        "\n",
        "   Var229  Var230    Churn  \n",
        "0     NaN     NaN  nochurn  \n",
        "1     NaN     NaN    churn  \n",
        "2    am7c     NaN  nochurn  \n",
        "\n",
        "[3 rows x 231 columns]"
       ]
      }
     ],
     "prompt_number": 3
    },
    {
     "cell_type": "code",
     "collapsed": false,
     "input": [
      "train, test = train_test_split(np.arange(custdata.shape[0]), test_size = 0.15)\n",
      "test_data = custdata.iloc[test, :]\n",
      "custdata = custdata.iloc[train, :]\n",
      "print custdata.shape, test_data.shape"
     ],
     "language": "python",
     "metadata": {},
     "outputs": [
      {
       "output_type": "stream",
       "stream": "stdout",
       "text": [
        "(42500, 231) (7500, 231)\n"
       ]
      }
     ],
     "prompt_number": 4
    },
    {
     "cell_type": "code",
     "collapsed": false,
     "input": [
      "custsession = session.Session(custdata, 'Churn')\n",
      "transformers = []\n",
      "print custsession.get_parameters()"
     ],
     "language": "python",
     "metadata": {},
     "outputs": [
      {
       "output_type": "stream",
       "stream": "stdout",
       "text": [
        "{'SKEWNESS_THR': 20, 'FRAC_OF_NA_TO_IGNORE': 0.95, 'FRAC_OF_FEAT_TO_BE_NONINFORMATIVE': 0.95, 'REDUNDANT_FEAT_CORR_THR': 0.95, 'MIN_NUM_VALUES_FOR_NUMERICAL': 5}\n"
       ]
      }
     ],
     "prompt_number": 5
    },
    {
     "cell_type": "code",
     "collapsed": false,
     "input": [
      "numerical_features = custsession.get_features_of(criterion=custsession.is_numerical_feature)\n",
      "categorical_features = custsession.get_features_of(criterion=custsession.is_categorical_feature)\n",
      "all_features = set(custdata.columns)\n",
      "all_features.difference(np.union1d(numerical_features, categorical_features))"
     ],
     "language": "python",
     "metadata": {},
     "outputs": [
      {
       "metadata": {},
       "output_type": "pyout",
       "prompt_number": 6,
       "text": [
        "{'Churn'}"
       ]
      }
     ],
     "prompt_number": 6
    },
    {
     "cell_type": "code",
     "collapsed": false,
     "input": [
      "## remove heavy missing value features\n",
      "na_features = custsession.get_features_of(criterion=custsession.is_na_feature)\n",
      "features_to_ignore = custsession.get_features_of(criterion=custsession.is_na_heavy)\n",
      "remover = custsession.remove_features(features_to_ignore)\n",
      "transformers.append(remover)\n",
      "print len(custsession.get_all_input_features())"
     ],
     "language": "python",
     "metadata": {},
     "outputs": [
      {
       "output_type": "stream",
       "stream": "stdout",
       "text": [
        "77\n"
       ]
      }
     ],
     "prompt_number": 7
    },
    {
     "cell_type": "code",
     "collapsed": false,
     "input": [
      "custsession.get_features_of(custsession.is_na_feature)"
     ],
     "language": "python",
     "metadata": {},
     "outputs": [
      {
       "metadata": {},
       "output_type": "pyout",
       "prompt_number": 8,
       "text": [
        "array(['Var6', 'Var7', 'Var13', 'Var21', 'Var22', 'Var24', 'Var25',\n",
        "       'Var28', 'Var35', 'Var38', 'Var44', 'Var51', 'Var65', 'Var72',\n",
        "       'Var74', 'Var76', 'Var78', 'Var81', 'Var83', 'Var85', 'Var94',\n",
        "       'Var109', 'Var112', 'Var119', 'Var123', 'Var125', 'Var126',\n",
        "       'Var132', 'Var133', 'Var134', 'Var140', 'Var143', 'Var144',\n",
        "       'Var149', 'Var153', 'Var160', 'Var163', 'Var173', 'Var181',\n",
        "       'Var189', 'Var192', 'Var194', 'Var197', 'Var199', 'Var200',\n",
        "       'Var201', 'Var202', 'Var203', 'Var205', 'Var206', 'Var208',\n",
        "       'Var214', 'Var217', 'Var218', 'Var219', 'Var223', 'Var225', 'Var229'], \n",
        "      dtype='|S6')"
       ]
      }
     ],
     "prompt_number": 8
    },
    {
     "cell_type": "code",
     "collapsed": false,
     "input": [
      "## impute missing value features \n",
      "feature_imputer = custsession.impute_features(auto_remove=True)\n",
      "transformers.append(feature_imputer)\n",
      "print custsession.get_features_of(custsession.is_na_feature)"
     ],
     "language": "python",
     "metadata": {},
     "outputs": [
      {
       "output_type": "stream",
       "stream": "stdout",
       "text": [
        "[]\n"
       ]
      }
     ],
     "prompt_number": 9
    },
    {
     "cell_type": "code",
     "collapsed": false,
     "input": [
      "## remove non-informative (near-zero variance) feature\n",
      "noninformative_feats = custsession.get_features_of(custsession.is_noninformative_feature)\n",
      "remover = custsession.remove_features(noninformative_feats)\n",
      "transformers.append(remover)\n",
      "print custsession.get_features_of(custsession.is_noninformative_feature)"
     ],
     "language": "python",
     "metadata": {},
     "outputs": [
      {
       "output_type": "stream",
       "stream": "stdout",
       "text": [
        "[]\n"
       ]
      }
     ],
     "prompt_number": 10
    },
    {
     "cell_type": "code",
     "collapsed": false,
     "input": [
      "## evenize skewed features\n",
      "custsession.get_features_of(custsession.is_skewed_numerical_feature)\n",
      "feature_evenizer = custsession.evenize_skew_features(auto_remove=True)\n",
      "transformers.append(feature_evenizer)\n",
      "custsession.get_features_of(custsession.is_skewed_numerical_feature)"
     ],
     "language": "python",
     "metadata": {},
     "outputs": [
      {
       "metadata": {},
       "output_type": "pyout",
       "prompt_number": 11,
       "text": [
        "array(['Var65_IMPUTED_LOG', 'Var78_IMPUTED_LOG1', 'Var181_IMPUTED_LOG1',\n",
        "       'Var173_IMPUTED_LOG1', 'Var143_IMPUTED_LOG1', 'Var72_IMPUTED_LOG',\n",
        "       'Var35_IMPUTED_LOG1', 'Var132_IMPUTED_LOG1', 'Var44_IMPUTED_LOG1'], \n",
        "      dtype='|S19')"
       ]
      }
     ],
     "prompt_number": 11
    },
    {
     "cell_type": "code",
     "collapsed": false,
     "input": [
      "## whiten features\n",
      "feature_whitener = custsession.whiten_features(auto_remove=True)\n",
      "transformers.append(feature_whitener)\n",
      "for f in custsession.get_features_of(custsession.is_numerical_feature):\n",
      "    assert np.isclose(custsession.data[f].mean(), 0, rtol=1e-1, atol = 1e-1) \n",
      "    assert np.isclose(custsession.data[f].std(), 1, rtol=1e-1, atol = 1e-1)"
     ],
     "language": "python",
     "metadata": {},
     "outputs": [],
     "prompt_number": 12
    },
    {
     "cell_type": "code",
     "collapsed": false,
     "input": [
      "## find redundant features \n",
      "custsession.find_redundant_features()"
     ],
     "language": "python",
     "metadata": {},
     "outputs": [
      {
       "metadata": {},
       "output_type": "pyout",
       "prompt_number": 13,
       "text": [
        "[]"
       ]
      }
     ],
     "prompt_number": 13
    },
    {
     "cell_type": "code",
     "collapsed": false,
     "input": [
      "## numerize categorical features\n",
      "categorical_features = custsession.get_features_of(custsession.is_categorical_feature)\n",
      "numerizer = custsession.numerize_categorical_features(auto_remove=False)\n",
      "transformers.append(numerizer)"
     ],
     "language": "python",
     "metadata": {},
     "outputs": [],
     "prompt_number": 14
    },
    {
     "cell_type": "code",
     "collapsed": false,
     "input": [
      "## explore categorical data\n",
      "print custsession.print_categorial_crosstable(feature_names=['Var211',  ])\n",
      "custsession.plot_feature_pair(\"Var211\", \"Churn\")"
     ],
     "language": "python",
     "metadata": {},
     "outputs": [
      {
       "output_type": "stream",
       "stream": "stdout",
       "text": [
        "        train_churn  test_churn  overall_churn\n",
        "Var211                                        \n",
        "L84s       0.079244    0.074482       0.077809\n",
        "All        0.074555    0.071529       0.073647\n",
        "Mtgm       0.055133    0.058872       0.056233\n"
       ]
      },
      {
       "metadata": {},
       "output_type": "display_data",
       "png": "[encoded data removed]",
       "text": [
        "<matplotlib.figure.Figure at 0x7f94a90fb9d0>"
       ]
      }
     ],
     "prompt_number": 15
    },
    {
     "cell_type": "code",
     "collapsed": false,
     "input": [
      "## explore numerical data\n",
      "custsession.plot_feature_pair(\"Var73_LOG_WHITE\", \"Churn\")\n",
      "custsession.plot_feature_pair(\"Var211\", \"Var73_LOG_WHITE\")\n",
      "custsession.plot_feature_pair('Var57_WHITE', 'Var113_WHITE')"
     ],
     "language": "python",
     "metadata": {},
     "outputs": [
      {
       "metadata": {},
       "output_type": "display_data",
       "png": "[encoded data removed]",
       "text": [
        "<matplotlib.figure.Figure at 0x7f94a907e790>"
       ]
      },
      {
       "metadata": {},
       "output_type": "display_data",
       "png": "[encoded data removed]",
       "text": [
        "<matplotlib.figure.Figure at 0x7f94a8aa9ad0>"
       ]
      },
      {
       "metadata": {},
       "output_type": "display_data",
       "png": "[encoded data removed]",
       "text": [
        "<matplotlib.figure.Figure at 0x7f94a8aa9ed0>"
       ]
      }
     ],
     "prompt_number": 16
    },
    {
     "cell_type": "code",
     "collapsed": false,
     "input": [
      "redudant_features = custsession.find_redundant_features()\n",
      "remover = custsession.remove_features(redudant_features)\n",
      "transformers.append(remover)\n",
      "custsession.find_redundant_features()"
     ],
     "language": "python",
     "metadata": {},
     "outputs": [
      {
       "metadata": {},
       "output_type": "pyout",
       "prompt_number": 17,
       "text": [
        "[]"
       ]
      }
     ],
     "prompt_number": 17
    },
    {
     "cell_type": "code",
     "collapsed": false,
     "input": [
      "custsession.get_all_input_features()"
     ],
     "language": "python",
     "metadata": {},
     "outputs": [
      {
       "metadata": {},
       "output_type": "pyout",
       "prompt_number": 30,
       "text": [
        "array(['Var193', 'Var198', 'Var204', 'Var207', 'Var211', 'Var212',\n",
        "       'Var216', 'Var220', 'Var221', 'Var222', 'Var226', 'Var227',\n",
        "       'Var228', 'Var13_IS_IMPUTED', 'Var112_IS_IMPUTED',\n",
        "       'Var153_IS_IMPUTED', 'Var85_IS_IMPUTED', 'Var119_IS_IMPUTED',\n",
        "       'Var83_IS_IMPUTED', 'Var81_IS_IMPUTED', 'Var208_IMPUTED',\n",
        "       'Var123_IS_IMPUTED', 'Var28_IS_IMPUTED', 'Var24_IS_IMPUTED',\n",
        "       'Var25_IS_IMPUTED', 'Var21_IS_IMPUTED', 'Var44_IS_IMPUTED',\n",
        "       'Var65_IS_IMPUTED', 'Var125_IS_IMPUTED', 'Var7_IS_IMPUTED',\n",
        "       'Var6_IS_IMPUTED', 'Var223_IMPUTED', 'Var229_IMPUTED',\n",
        "       'Var133_IS_IMPUTED', 'Var160_IS_IMPUTED', 'Var22_IS_IMPUTED',\n",
        "       'Var149_IS_IMPUTED', 'Var143_IS_IMPUTED', 'Var205_IMPUTED',\n",
        "       'Var206_IMPUTED', 'Var201_IMPUTED', 'Var200_IMPUTED',\n",
        "       'Var203_IMPUTED', 'Var181_IS_IMPUTED', 'Var76_IS_IMPUTED',\n",
        "       'Var74_IS_IMPUTED', 'Var72_IS_IMPUTED', 'Var126_IS_IMPUTED',\n",
        "       'Var94_IS_IMPUTED', 'Var140_IS_IMPUTED', 'Var163_IS_IMPUTED',\n",
        "       'Var225_IMPUTED', 'Var38_IS_IMPUTED', 'Var109_IS_IMPUTED',\n",
        "       'Var132_IS_IMPUTED', 'Var144_IS_IMPUTED', 'Var35_IS_IMPUTED',\n",
        "       'Var217_IMPUTED', 'Var51_IS_IMPUTED', 'Var78_IS_IMPUTED',\n",
        "       'Var202_IMPUTED', 'Var214_IMPUTED', 'Var173_IS_IMPUTED',\n",
        "       'Var199_IMPUTED', 'Var218_IMPUTED', 'Var219_IMPUTED',\n",
        "       'Var194_IMPUTED', 'Var197_IMPUTED', 'Var189_IS_IMPUTED',\n",
        "       'Var134_IS_IMPUTED', 'Var192_IMPUTED', 'Var57_WHITE',\n",
        "       'Var113_WHITE', 'Var153_IMPUTED_WHITE', 'Var112_IMPUTED_LOG1_WHITE',\n",
        "       'Var65_IMPUTED_LOG_WHITE', 'Var149_IMPUTED_LOG1_WHITE',\n",
        "       'Var119_IMPUTED_LOG1_WHITE', 'Var78_IMPUTED_LOG1_WHITE',\n",
        "       'Var181_IMPUTED_LOG1_WHITE', 'Var25_IMPUTED_LOG1_WHITE',\n",
        "       'Var173_IMPUTED_LOG1_WHITE', 'Var189_IMPUTED_LOG_WHITE',\n",
        "       'Var76_IMPUTED_LOG1_WHITE', 'Var143_IMPUTED_LOG1_WHITE',\n",
        "       'Var24_IMPUTED_LOG1_WHITE', 'Var123_IMPUTED_LOG1_WHITE',\n",
        "       'Var83_IMPUTED_LOG1_WHITE', 'Var85_IMPUTED_LOG1_WHITE',\n",
        "       'Var140_IMPUTED_LOG1_WHITE', 'Var6_IMPUTED_LOG1_WHITE',\n",
        "       'Var21_IMPUTED_LOG1_WHITE', 'Var160_IMPUTED_LOG1_WHITE',\n",
        "       'Var38_IMPUTED_LOG1_WHITE', 'Var73_LOG_WHITE',\n",
        "       'Var126_IMPUTED_SIGNEDLOG_WHITE', 'Var72_IMPUTED_LOG_WHITE',\n",
        "       'Var35_IMPUTED_LOG1_WHITE', 'Var7_IMPUTED_LOG1_WHITE',\n",
        "       'Var94_IMPUTED_LOG1_WHITE', 'Var125_IMPUTED_LOG1_WHITE',\n",
        "       'Var28_IMPUTED_SIGNEDLOG_WHITE', 'Var81_IMPUTED_LOG1_WHITE',\n",
        "       'Var133_IMPUTED_LOG1_WHITE', 'Var132_IMPUTED_LOG1_WHITE',\n",
        "       'Var13_IMPUTED_LOG1_WHITE', 'Var51_IMPUTED_LOG1_WHITE',\n",
        "       'Var74_IMPUTED_LOG1_WHITE', 'Var44_IMPUTED_LOG1_WHITE',\n",
        "       'Var144_IMPUTED_LOG1_WHITE', 'Var163_IMPUTED_LOG1_WHITE',\n",
        "       'Var109_IMPUTED_LOG1_WHITE', 'Var22_IMPUTED_LOG1_WHITE',\n",
        "       'Var134_IMPUTED_LOG1_WHITE', 'Var193_churn_NUMERIZED',\n",
        "       'Var198_churn_NUMERIZED', 'Var204_churn_NUMERIZED',\n",
        "       'Var207_churn_NUMERIZED', 'Var211_churn_NUMERIZED',\n",
        "       'Var212_churn_NUMERIZED', 'Var216_churn_NUMERIZED',\n",
        "       'Var221_churn_NUMERIZED', 'Var226_churn_NUMERIZED',\n",
        "       'Var227_churn_NUMERIZED', 'Var228_churn_NUMERIZED',\n",
        "       'Var13_IS_IMPUTED_churn_NUMERIZED',\n",
        "       'Var119_IS_IMPUTED_churn_NUMERIZED',\n",
        "       'Var208_IMPUTED_churn_NUMERIZED',\n",
        "       'Var28_IS_IMPUTED_churn_NUMERIZED',\n",
        "       'Var24_IS_IMPUTED_churn_NUMERIZED',\n",
        "       'Var223_IMPUTED_churn_NUMERIZED', 'Var229_IMPUTED_churn_NUMERIZED',\n",
        "       'Var205_IMPUTED_churn_NUMERIZED', 'Var206_IMPUTED_churn_NUMERIZED',\n",
        "       'Var201_IMPUTED_churn_NUMERIZED', 'Var200_IMPUTED_churn_NUMERIZED',\n",
        "       'Var203_IMPUTED_churn_NUMERIZED',\n",
        "       'Var72_IS_IMPUTED_churn_NUMERIZED',\n",
        "       'Var126_IS_IMPUTED_churn_NUMERIZED',\n",
        "       'Var225_IMPUTED_churn_NUMERIZED', 'Var217_IMPUTED_churn_NUMERIZED',\n",
        "       'Var51_IS_IMPUTED_churn_NUMERIZED',\n",
        "       'Var202_IMPUTED_churn_NUMERIZED', 'Var199_IMPUTED_churn_NUMERIZED',\n",
        "       'Var218_IMPUTED_churn_NUMERIZED', 'Var219_IMPUTED_churn_NUMERIZED',\n",
        "       'Var197_IMPUTED_churn_NUMERIZED',\n",
        "       'Var189_IS_IMPUTED_churn_NUMERIZED',\n",
        "       'Var192_IMPUTED_churn_NUMERIZED'], \n",
        "      dtype='|S33')"
       ]
      }
     ],
     "prompt_number": 30
    },
    {
     "cell_type": "code",
     "collapsed": false,
     "input": [
      "custsession.plot_feature_pair(\"Var211_churn_NUMERIZED\", \"Churn\")"
     ],
     "language": "python",
     "metadata": {},
     "outputs": [
      {
       "metadata": {},
       "output_type": "display_data",
       "png": "[encoded data removed]",
       "text": [
        "<matplotlib.figure.Figure at 0x7f946a066e50>"
       ]
      }
     ],
     "prompt_number": 39
    },
    {
     "cell_type": "code",
     "collapsed": false,
     "input": [
      "f = \"Var193_churn_NUMERIZED\"\n",
      "np.where(custsession.data.Churn == \"churn\", \n",
      "                           custsession.data[f], \n",
      "                           1-custsession.data[f])"
     ],
     "language": "python",
     "metadata": {},
     "outputs": [
      {
       "metadata": {},
       "output_type": "pyout",
       "prompt_number": 34,
       "text": [
        "array([ 0.94767442,  0.95620101,  0.95620101, ...,  0.91398857,\n",
        "        0.08601143,  0.91398857])"
       ]
      }
     ],
     "prompt_number": 34
    },
    {
     "cell_type": "code",
     "collapsed": false,
     "input": [
      "def loglikelihood(f):\n",
      "    return -np.log(np.where(custsession.data.Churn == \"churn\", \n",
      "                           custsession.data[f], \n",
      "                           1-custsession.data[f])).mean()\n",
      "\n",
      "for f in [f for f in custsession.get_all_input_features() if \"NUMERIZED\" in f]:\n",
      "    print f, loglikelihood(f)"
     ],
     "language": "python",
     "metadata": {},
     "outputs": [
      {
       "output_type": "stream",
       "stream": "stdout",
       "text": [
        "Var193_churn_NUMERIZED inf\n",
        "Var198_churn_NUMERIZED inf\n",
        "Var204_churn_NUMERIZED inf\n",
        "Var207_churn_NUMERIZED inf\n",
        "Var211_churn_NUMERIZED 0.262418172402\n",
        "Var212_churn_NUMERIZED inf\n",
        "Var216_churn_NUMERIZED inf\n",
        "Var221_churn_NUMERIZED "
       ]
      },
      {
       "output_type": "stream",
       "stream": "stdout",
       "text": [
        "0.261829099309\n",
        "Var226_churn_NUMERIZED 0.261934486696\n",
        "Var227_churn_NUMERIZED inf\n",
        "Var228_churn_NUMERIZED 0.259636321321\n",
        "Var13_IS_IMPUTED_churn_NUMERIZED 0.262590351306\n",
        "Var119_IS_IMPUTED_churn_NUMERIZED 0.262450153803\n",
        "Var208_IMPUTED_churn_NUMERIZED 0.262950944448\n",
        "Var28_IS_IMPUTED_churn_NUMERIZED 0.262431852774\n",
        "Var24_IS_IMPUTED_churn_NUMERIZED 0.262979550873\n",
        "Var223_IMPUTED_churn_NUMERIZED 0.262944556901\n",
        "Var229_IMPUTED_churn_NUMERIZED inf\n",
        "Var205_IMPUTED_churn_NUMERIZED "
       ]
      },
      {
       "output_type": "stream",
       "stream": "stdout",
       "text": [
        "0.260900922003\n",
        "Var206_IMPUTED_churn_NUMERIZED 0.25925603104\n",
        "Var201_IMPUTED_churn_NUMERIZED inf\n",
        "Var200_IMPUTED_churn_NUMERIZED inf\n",
        "Var203_IMPUTED_churn_NUMERIZED 0.262926878402\n",
        "Var72_IS_IMPUTED_churn_NUMERIZED 0.262911581931\n",
        "Var126_IS_IMPUTED_churn_NUMERIZED 0.259374843685\n",
        "Var225_IMPUTED_churn_NUMERIZED 0.261330376316\n",
        "Var217_IMPUTED_churn_NUMERIZED inf\n",
        "Var51_IS_IMPUTED_churn_NUMERIZED 0.262825209336\n",
        "Var202_IMPUTED_churn_NUMERIZED inf\n",
        "Var199_IMPUTED_churn_NUMERIZED "
       ]
      },
      {
       "output_type": "stream",
       "stream": "stdout",
       "text": [
        "inf\n",
        "Var218_IMPUTED_churn_NUMERIZED 0.259409824986\n",
        "Var219_IMPUTED_churn_NUMERIZED 0.262619818122\n",
        "Var197_IMPUTED_churn_NUMERIZED inf\n",
        "Var189_IS_IMPUTED_churn_NUMERIZED 0.262968016317\n",
        "Var192_IMPUTED_churn_NUMERIZED inf\n"
       ]
      }
     ],
     "prompt_number": 33
    },
    {
     "cell_type": "code",
     "collapsed": false,
     "input": [],
     "language": "python",
     "metadata": {},
     "outputs": []
    },
    {
     "cell_type": "code",
     "collapsed": false,
     "input": [],
     "language": "python",
     "metadata": {},
     "outputs": [],
     "prompt_number": 17
    },
    {
     "cell_type": "code",
     "collapsed": false,
     "input": [],
     "language": "python",
     "metadata": {},
     "outputs": [],
     "prompt_number": 17
    },
    {
     "cell_type": "code",
     "collapsed": false,
     "input": [],
     "language": "python",
     "metadata": {},
     "outputs": [],
     "prompt_number": 17
    },
    {
     "cell_type": "code",
     "collapsed": false,
     "input": [
      "## test all transformers on the new data \n",
      "combiners = transform.TransformPipeline(transformers)\n",
      "transformed_test = combiners.transform(test_data)\n",
      "print transformed_test.shape\n",
      "print len(custsession.get_all_input_features())"
     ],
     "language": "python",
     "metadata": {},
     "outputs": [
      {
       "output_type": "stream",
       "stream": "stdout",
       "text": [
        "(7500, 150)\n",
        "149\n"
       ]
      }
     ],
     "prompt_number": 18
    },
    {
     "cell_type": "code",
     "collapsed": false,
     "input": [
      "transformed_test.head()"
     ],
     "language": "python",
     "metadata": {},
     "outputs": [
      {
       "html": [
        "<div style=\"max-height:1000px;max-width:1500px;overflow:auto;\">\n",
        "<table border=\"1\" class=\"dataframe\">\n",
        "  <thead>\n",
        "    <tr style=\"text-align: right;\">\n",
        "      <th></th>\n",
        "      <th>Var193</th>\n",
        "      <th>Var198</th>\n",
        "      <th>Var204</th>\n",
        "      <th>Var207</th>\n",
        "      <th>Var211</th>\n",
        "      <th>Var212</th>\n",
        "      <th>Var216</th>\n",
        "      <th>Var220</th>\n",
        "      <th>Var221</th>\n",
        "      <th>Var222</th>\n",
        "      <th>...</th>\n",
        "      <th>Var225_IMPUTED_churn_NUMERIZED</th>\n",
        "      <th>Var217_IMPUTED_churn_NUMERIZED</th>\n",
        "      <th>Var51_IS_IMPUTED_churn_NUMERIZED</th>\n",
        "      <th>Var202_IMPUTED_churn_NUMERIZED</th>\n",
        "      <th>Var199_IMPUTED_churn_NUMERIZED</th>\n",
        "      <th>Var218_IMPUTED_churn_NUMERIZED</th>\n",
        "      <th>Var219_IMPUTED_churn_NUMERIZED</th>\n",
        "      <th>Var197_IMPUTED_churn_NUMERIZED</th>\n",
        "      <th>Var189_IS_IMPUTED_churn_NUMERIZED</th>\n",
        "      <th>Var192_IMPUTED_churn_NUMERIZED</th>\n",
        "    </tr>\n",
        "  </thead>\n",
        "  <tbody>\n",
        "    <tr>\n",
        "      <th>0</th>\n",
        "      <td> AERks4l</td>\n",
        "      <td> 9GJGgoz</td>\n",
        "      <td> nr0d</td>\n",
        "      <td>       Kxdu</td>\n",
        "      <td> L84s</td>\n",
        "      <td>    FMSzZ91zL2</td>\n",
        "      <td> kq0IHVu</td>\n",
        "      <td> Tvpip6Z</td>\n",
        "      <td> zCkv</td>\n",
        "      <td> hHJsvbM</td>\n",
        "      <td>...</td>\n",
        "      <td> 0.087836</td>\n",
        "      <td> 0.000000</td>\n",
        "      <td> 0.075849</td>\n",
        "      <td> 0.000000</td>\n",
        "      <td> 0.068783</td>\n",
        "      <td> 0.061139</td>\n",
        "      <td> 0.076437</td>\n",
        "      <td> 0.079329</td>\n",
        "      <td> 0.072874</td>\n",
        "      <td> 0.067708</td>\n",
        "    </tr>\n",
        "    <tr>\n",
        "      <th>1</th>\n",
        "      <td> AERks4l</td>\n",
        "      <td> PHNvXy8</td>\n",
        "      <td> VILw</td>\n",
        "      <td> NKv3VA1BpP</td>\n",
        "      <td> L84s</td>\n",
        "      <td>       Ie_5MZs</td>\n",
        "      <td> teAY_NX</td>\n",
        "      <td> UF16siJ</td>\n",
        "      <td> zCkv</td>\n",
        "      <td> APgdzOv</td>\n",
        "      <td>...</td>\n",
        "      <td> 0.062370</td>\n",
        "      <td> 0.000000</td>\n",
        "      <td> 0.075849</td>\n",
        "      <td> 0.000000</td>\n",
        "      <td> 0.051447</td>\n",
        "      <td> 0.083602</td>\n",
        "      <td> 0.076437</td>\n",
        "      <td> 0.079329</td>\n",
        "      <td> 0.072874</td>\n",
        "      <td> 0.067708</td>\n",
        "    </tr>\n",
        "    <tr>\n",
        "      <th>2</th>\n",
        "      <td>    RO12</td>\n",
        "      <td> pKHsKl9</td>\n",
        "      <td> xQ2A</td>\n",
        "      <td> me75fM6ugJ</td>\n",
        "      <td> Mtgm</td>\n",
        "      <td>       NhsEn4L</td>\n",
        "      <td> 7WwuNea</td>\n",
        "      <td> 8Qv6hzI</td>\n",
        "      <td> oslk</td>\n",
        "      <td> 2O2Rt2K</td>\n",
        "      <td>...</td>\n",
        "      <td> 0.087836</td>\n",
        "      <td> 0.109827</td>\n",
        "      <td> 0.075849</td>\n",
        "      <td> 0.157895</td>\n",
        "      <td> 0.000000</td>\n",
        "      <td> 0.083602</td>\n",
        "      <td> 0.071987</td>\n",
        "      <td> 0.083454</td>\n",
        "      <td> 0.072874</td>\n",
        "      <td> 0.067708</td>\n",
        "    </tr>\n",
        "    <tr>\n",
        "      <th>3</th>\n",
        "      <td>    RO12</td>\n",
        "      <td> 82ydmQ4</td>\n",
        "      <td> xQ2A</td>\n",
        "      <td> me75fM6ugJ</td>\n",
        "      <td> L84s</td>\n",
        "      <td>       NhsEn4L</td>\n",
        "      <td> kZJtVhC</td>\n",
        "      <td> FonmS85</td>\n",
        "      <td> oslk</td>\n",
        "      <td> PC0a_vf</td>\n",
        "      <td>...</td>\n",
        "      <td> 0.087836</td>\n",
        "      <td> 0.000000</td>\n",
        "      <td> 0.075849</td>\n",
        "      <td> 0.000000</td>\n",
        "      <td> 0.041096</td>\n",
        "      <td> 0.061139</td>\n",
        "      <td> 0.076437</td>\n",
        "      <td> 0.079755</td>\n",
        "      <td> 0.072874</td>\n",
        "      <td> 0.067708</td>\n",
        "    </tr>\n",
        "    <tr>\n",
        "      <th>4</th>\n",
        "      <td>    RO12</td>\n",
        "      <td> 2a3gFRq</td>\n",
        "      <td> nr0d</td>\n",
        "      <td> me75fM6ugJ</td>\n",
        "      <td> L84s</td>\n",
        "      <td> XfqtO3UdzaXh_</td>\n",
        "      <td> 11p4mKe</td>\n",
        "      <td> yOOOw16</td>\n",
        "      <td> oslk</td>\n",
        "      <td> TCwEKx8</td>\n",
        "      <td>...</td>\n",
        "      <td> 0.053937</td>\n",
        "      <td> 0.000000</td>\n",
        "      <td> 0.075849</td>\n",
        "      <td> 0.000000</td>\n",
        "      <td> 0.062500</td>\n",
        "      <td> 0.061139</td>\n",
        "      <td> 0.076437</td>\n",
        "      <td> 0.079755</td>\n",
        "      <td> 0.072874</td>\n",
        "      <td> 0.067708</td>\n",
        "    </tr>\n",
        "  </tbody>\n",
        "</table>\n",
        "<p>5 rows \u00d7 150 columns</p>\n",
        "</div>"
       ],
       "metadata": {},
       "output_type": "pyout",
       "prompt_number": 19,
       "text": [
        "    Var193   Var198 Var204      Var207 Var211         Var212   Var216  \\\n",
        "0  AERks4l  9GJGgoz   nr0d        Kxdu   L84s     FMSzZ91zL2  kq0IHVu   \n",
        "1  AERks4l  PHNvXy8   VILw  NKv3VA1BpP   L84s        Ie_5MZs  teAY_NX   \n",
        "2     RO12  pKHsKl9   xQ2A  me75fM6ugJ   Mtgm        NhsEn4L  7WwuNea   \n",
        "3     RO12  82ydmQ4   xQ2A  me75fM6ugJ   L84s        NhsEn4L  kZJtVhC   \n",
        "4     RO12  2a3gFRq   nr0d  me75fM6ugJ   L84s  XfqtO3UdzaXh_  11p4mKe   \n",
        "\n",
        "    Var220 Var221   Var222   ...    Var225_IMPUTED_churn_NUMERIZED  \\\n",
        "0  Tvpip6Z   zCkv  hHJsvbM   ...                          0.087836   \n",
        "1  UF16siJ   zCkv  APgdzOv   ...                          0.062370   \n",
        "2  8Qv6hzI   oslk  2O2Rt2K   ...                          0.087836   \n",
        "3  FonmS85   oslk  PC0a_vf   ...                          0.087836   \n",
        "4  yOOOw16   oslk  TCwEKx8   ...                          0.053937   \n",
        "\n",
        "  Var217_IMPUTED_churn_NUMERIZED Var51_IS_IMPUTED_churn_NUMERIZED  \\\n",
        "0                       0.000000                         0.075849   \n",
        "1                       0.000000                         0.075849   \n",
        "2                       0.109827                         0.075849   \n",
        "3                       0.000000                         0.075849   \n",
        "4                       0.000000                         0.075849   \n",
        "\n",
        "  Var202_IMPUTED_churn_NUMERIZED Var199_IMPUTED_churn_NUMERIZED  \\\n",
        "0                       0.000000                       0.068783   \n",
        "1                       0.000000                       0.051447   \n",
        "2                       0.157895                       0.000000   \n",
        "3                       0.000000                       0.041096   \n",
        "4                       0.000000                       0.062500   \n",
        "\n",
        "  Var218_IMPUTED_churn_NUMERIZED Var219_IMPUTED_churn_NUMERIZED  \\\n",
        "0                       0.061139                       0.076437   \n",
        "1                       0.083602                       0.076437   \n",
        "2                       0.083602                       0.071987   \n",
        "3                       0.061139                       0.076437   \n",
        "4                       0.061139                       0.076437   \n",
        "\n",
        "  Var197_IMPUTED_churn_NUMERIZED Var189_IS_IMPUTED_churn_NUMERIZED  \\\n",
        "0                       0.079329                          0.072874   \n",
        "1                       0.079329                          0.072874   \n",
        "2                       0.083454                          0.072874   \n",
        "3                       0.079755                          0.072874   \n",
        "4                       0.079755                          0.072874   \n",
        "\n",
        "  Var192_IMPUTED_churn_NUMERIZED  \n",
        "0                       0.067708  \n",
        "1                       0.067708  \n",
        "2                       0.067708  \n",
        "3                       0.067708  \n",
        "4                       0.067708  \n",
        "\n",
        "[5 rows x 150 columns]"
       ]
      }
     ],
     "prompt_number": 19
    },
    {
     "cell_type": "code",
     "collapsed": false,
     "input": [],
     "language": "python",
     "metadata": {},
     "outputs": []
    }
   ],
   "metadata": {}
  }
 ]
}