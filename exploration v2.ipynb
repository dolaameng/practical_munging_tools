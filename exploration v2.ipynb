{
 "metadata": {
  "name": "",
  "signature": "sha256:4738e831f229451fc214adaf610fbaa3f018921ee5d38a8caed741125049ab78"
 },
 "nbformat": 3,
 "nbformat_minor": 0,
 "worksheets": [
  {
   "cells": [
    {
     "cell_type": "code",
     "collapsed": false,
     "input": [
      "%load_ext autoreload\n",
      "%autoreload 2\n",
      "%matplotlib inline"
     ],
     "language": "python",
     "metadata": {},
     "outputs": [],
     "prompt_number": 1
    },
    {
     "cell_type": "code",
     "collapsed": false,
     "input": [
      "from munging import session\n",
      "\n",
      "\n",
      "import matplotlib.pyplot as plt\n",
      "import pandas as pd\n",
      "import numpy as np\n",
      "from scipy import stats"
     ],
     "language": "python",
     "metadata": {},
     "outputs": [],
     "prompt_number": 71
    },
    {
     "cell_type": "code",
     "collapsed": false,
     "input": [
      "## load data\n",
      "custdata = pd.read_table(\"data/orange_small_train.data.gz\", \n",
      "                         compression=\"gzip\", na_values=[\"NA\", \"\"], \n",
      "                         delimiter = \"\\t\", header = 0)\n",
      "churn = np.loadtxt(\"data/orange_small_train_churn.labels.txt\")\n",
      "custdata[\"Churn\"] = np.where(churn==1, \"churn\", \"nochurn\")\n",
      "custdata.head(n = 3)"
     ],
     "language": "python",
     "metadata": {},
     "outputs": [
      {
       "html": [
        "<div style=\"max-height:1000px;max-width:1500px;overflow:auto;\">\n",
        "<table border=\"1\" class=\"dataframe\">\n",
        "  <thead>\n",
        "    <tr style=\"text-align: right;\">\n",
        "      <th></th>\n",
        "      <th>Var1</th>\n",
        "      <th>Var2</th>\n",
        "      <th>Var3</th>\n",
        "      <th>Var4</th>\n",
        "      <th>Var5</th>\n",
        "      <th>Var6</th>\n",
        "      <th>Var7</th>\n",
        "      <th>Var8</th>\n",
        "      <th>Var9</th>\n",
        "      <th>Var10</th>\n",
        "      <th>...</th>\n",
        "      <th>Var222</th>\n",
        "      <th>Var223</th>\n",
        "      <th>Var224</th>\n",
        "      <th>Var225</th>\n",
        "      <th>Var226</th>\n",
        "      <th>Var227</th>\n",
        "      <th>Var228</th>\n",
        "      <th>Var229</th>\n",
        "      <th>Var230</th>\n",
        "      <th>Churn</th>\n",
        "    </tr>\n",
        "  </thead>\n",
        "  <tbody>\n",
        "    <tr>\n",
        "      <th>0</th>\n",
        "      <td>NaN</td>\n",
        "      <td>NaN</td>\n",
        "      <td>NaN</td>\n",
        "      <td>NaN</td>\n",
        "      <td>NaN</td>\n",
        "      <td> 1526</td>\n",
        "      <td> 7</td>\n",
        "      <td>NaN</td>\n",
        "      <td>NaN</td>\n",
        "      <td>NaN</td>\n",
        "      <td>...</td>\n",
        "      <td> fXVEsaq</td>\n",
        "      <td> jySVZNlOJy</td>\n",
        "      <td> NaN</td>\n",
        "      <td>  NaN</td>\n",
        "      <td> xb3V</td>\n",
        "      <td>    RAYp</td>\n",
        "      <td> F2FyR07IdsN7I</td>\n",
        "      <td>  NaN</td>\n",
        "      <td>NaN</td>\n",
        "      <td> nochurn</td>\n",
        "    </tr>\n",
        "    <tr>\n",
        "      <th>1</th>\n",
        "      <td>NaN</td>\n",
        "      <td>NaN</td>\n",
        "      <td>NaN</td>\n",
        "      <td>NaN</td>\n",
        "      <td>NaN</td>\n",
        "      <td>  525</td>\n",
        "      <td> 0</td>\n",
        "      <td>NaN</td>\n",
        "      <td>NaN</td>\n",
        "      <td>NaN</td>\n",
        "      <td>...</td>\n",
        "      <td> 2Kb5FSF</td>\n",
        "      <td> LM8l689qOp</td>\n",
        "      <td> NaN</td>\n",
        "      <td>  NaN</td>\n",
        "      <td> fKCe</td>\n",
        "      <td>    RAYp</td>\n",
        "      <td> F2FyR07IdsN7I</td>\n",
        "      <td>  NaN</td>\n",
        "      <td>NaN</td>\n",
        "      <td>   churn</td>\n",
        "    </tr>\n",
        "    <tr>\n",
        "      <th>2</th>\n",
        "      <td>NaN</td>\n",
        "      <td>NaN</td>\n",
        "      <td>NaN</td>\n",
        "      <td>NaN</td>\n",
        "      <td>NaN</td>\n",
        "      <td> 5236</td>\n",
        "      <td> 7</td>\n",
        "      <td>NaN</td>\n",
        "      <td>NaN</td>\n",
        "      <td>NaN</td>\n",
        "      <td>...</td>\n",
        "      <td> NKv4yOc</td>\n",
        "      <td> jySVZNlOJy</td>\n",
        "      <td> NaN</td>\n",
        "      <td> kG3k</td>\n",
        "      <td> Qu4f</td>\n",
        "      <td> 02N6s8f</td>\n",
        "      <td> ib5G6X1eUxUn6</td>\n",
        "      <td> am7c</td>\n",
        "      <td>NaN</td>\n",
        "      <td> nochurn</td>\n",
        "    </tr>\n",
        "  </tbody>\n",
        "</table>\n",
        "<p>3 rows \u00d7 231 columns</p>\n",
        "</div>"
       ],
       "metadata": {},
       "output_type": "pyout",
       "prompt_number": 72,
       "text": [
        "   Var1  Var2  Var3  Var4  Var5  Var6  Var7  Var8  Var9  Var10  ...    \\\n",
        "0   NaN   NaN   NaN   NaN   NaN  1526     7   NaN   NaN    NaN  ...     \n",
        "1   NaN   NaN   NaN   NaN   NaN   525     0   NaN   NaN    NaN  ...     \n",
        "2   NaN   NaN   NaN   NaN   NaN  5236     7   NaN   NaN    NaN  ...     \n",
        "\n",
        "    Var222      Var223  Var224  Var225  Var226   Var227         Var228  \\\n",
        "0  fXVEsaq  jySVZNlOJy     NaN     NaN    xb3V     RAYp  F2FyR07IdsN7I   \n",
        "1  2Kb5FSF  LM8l689qOp     NaN     NaN    fKCe     RAYp  F2FyR07IdsN7I   \n",
        "2  NKv4yOc  jySVZNlOJy     NaN    kG3k    Qu4f  02N6s8f  ib5G6X1eUxUn6   \n",
        "\n",
        "   Var229  Var230    Churn  \n",
        "0     NaN     NaN  nochurn  \n",
        "1     NaN     NaN    churn  \n",
        "2    am7c     NaN  nochurn  \n",
        "\n",
        "[3 rows x 231 columns]"
       ]
      }
     ],
     "prompt_number": 72
    },
    {
     "cell_type": "code",
     "collapsed": false,
     "input": [
      "custsession = session.Session(custdata, 'Churn')\n",
      "transformers = []\n",
      "print custsession.get_parameters()"
     ],
     "language": "python",
     "metadata": {},
     "outputs": [
      {
       "output_type": "stream",
       "stream": "stdout",
       "text": [
        "{'SKEWNESS_THR': 20, 'FRAC_OF_NA_TO_IGNORE': 0.95, 'FRAC_OF_FEAT_TO_BE_NONINFORMATIVE': 0.95, 'REDUNDANT_FEAT_CORR_THR': 0.95, 'MIN_NUM_VALUES_FOR_NUMERICAL': 5}\n"
       ]
      }
     ],
     "prompt_number": 73
    },
    {
     "cell_type": "code",
     "collapsed": false,
     "input": [
      "numerical_features = custsession.get_features_of(criterion=custsession.is_numerical_feature)\n",
      "categorical_features = custsession.get_features_of(criterion=custsession.is_categorical_feature)\n",
      "all_features = set(custdata.columns)\n",
      "all_features.difference(np.union1d(numerical_features, categorical_features))"
     ],
     "language": "python",
     "metadata": {},
     "outputs": [
      {
       "metadata": {},
       "output_type": "pyout",
       "prompt_number": 74,
       "text": [
        "{'Churn'}"
       ]
      }
     ],
     "prompt_number": 74
    },
    {
     "cell_type": "code",
     "collapsed": false,
     "input": [
      "## remove heavy missing value features\n",
      "na_features = custsession.get_features_of(criterion=custsession.is_na_feature)\n",
      "features_to_ignore = custsession.get_features_of(criterion=custsession.is_na_heavy)\n",
      "custsession.remove_features(features_to_ignore)\n",
      "print len(custsession.get_all_input_features())"
     ],
     "language": "python",
     "metadata": {},
     "outputs": [
      {
       "output_type": "stream",
       "stream": "stdout",
       "text": [
        "77\n"
       ]
      }
     ],
     "prompt_number": 75
    },
    {
     "cell_type": "code",
     "collapsed": false,
     "input": [
      "custsession.get_features_of(custsession.is_na_feature)"
     ],
     "language": "python",
     "metadata": {},
     "outputs": [
      {
       "metadata": {},
       "output_type": "pyout",
       "prompt_number": 76,
       "text": [
        "array(['Var6', 'Var7', 'Var13', 'Var21', 'Var22', 'Var24', 'Var25',\n",
        "       'Var28', 'Var35', 'Var38', 'Var44', 'Var51', 'Var65', 'Var72',\n",
        "       'Var74', 'Var76', 'Var78', 'Var81', 'Var83', 'Var85', 'Var94',\n",
        "       'Var109', 'Var112', 'Var119', 'Var123', 'Var125', 'Var126',\n",
        "       'Var132', 'Var133', 'Var134', 'Var140', 'Var143', 'Var144',\n",
        "       'Var149', 'Var153', 'Var160', 'Var163', 'Var173', 'Var181',\n",
        "       'Var189', 'Var192', 'Var194', 'Var197', 'Var199', 'Var200',\n",
        "       'Var201', 'Var202', 'Var203', 'Var205', 'Var206', 'Var208',\n",
        "       'Var214', 'Var217', 'Var218', 'Var219', 'Var223', 'Var225', 'Var229'], \n",
        "      dtype='|S6')"
       ]
      }
     ],
     "prompt_number": 76
    },
    {
     "cell_type": "code",
     "collapsed": false,
     "input": [
      "## impute missing value features \n",
      "feature_imputer = custsession.impute_features(auto_remove=True)\n",
      "transformers.append(feature_imputer)\n",
      "print custsession.get_features_of(custsession.is_na_feature)"
     ],
     "language": "python",
     "metadata": {},
     "outputs": [
      {
       "output_type": "stream",
       "stream": "stdout",
       "text": [
        "[]\n"
       ]
      }
     ],
     "prompt_number": 77
    },
    {
     "cell_type": "code",
     "collapsed": false,
     "input": [
      "## remove non-informative (near-zero variance) feature\n",
      "noninformative_feats = custsession.get_features_of(custsession.is_noninformative_feature)\n",
      "custsession.remove_features(noninformative_feats)\n",
      "print custsession.get_features_of(custsession.is_noninformative_feature)"
     ],
     "language": "python",
     "metadata": {},
     "outputs": [
      {
       "output_type": "stream",
       "stream": "stdout",
       "text": [
        "[]\n"
       ]
      }
     ],
     "prompt_number": 78
    },
    {
     "cell_type": "code",
     "collapsed": false,
     "input": [
      "## evenize skewed features\n",
      "custsession.get_features_of(custsession.is_skewed_numerical_feature)\n",
      "feature_evenizer = custsession.evenize_skew_features(auto_remove=True)\n",
      "transformers.append(feature_evenizer)\n",
      "custsession.get_features_of(custsession.is_skewed_numerical_feature)"
     ],
     "language": "python",
     "metadata": {},
     "outputs": [
      {
       "output_type": "stream",
       "stream": "stderr",
       "text": [
        "/opt/local/Library/Frameworks/Python.framework/Versions/2.7/lib/python2.7/site-packages/numexpr-2.1-py2.7-macosx-10.7-x86_64.egg/numexpr/necompiler.py:746: DeprecationWarning: using `oa_ndim == 0` when `op_axes` is NULL is deprecated. Use `oa_ndim == -1` or the MultiNew iterator for NumPy <1.8 compatibility\n",
        "  return compiled_ex(*arguments, **kwargs)\n",
        "/opt/local/Library/Frameworks/Python.framework/Versions/2.7/lib/python2.7/site-packages/numexpr-2.1-py2.7-macosx-10.7-x86_64.egg/numexpr/necompiler.py:746: DeprecationWarning: using `oa_ndim == 0` when `op_axes` is NULL is deprecated. Use `oa_ndim == -1` or the MultiNew iterator for NumPy <1.8 compatibility\n",
        "  return compiled_ex(*arguments, **kwargs)\n",
        "/opt/local/Library/Frameworks/Python.framework/Versions/2.7/lib/python2.7/site-packages/numexpr-2.1-py2.7-macosx-10.7-x86_64.egg/numexpr/necompiler.py:746: DeprecationWarning: using `oa_ndim == 0` when `op_axes` is NULL is deprecated. Use `oa_ndim == -1` or the MultiNew iterator for NumPy <1.8 compatibility\n",
        "  return compiled_ex(*arguments, **kwargs)\n",
        "/opt/local/Library/Frameworks/Python.framework/Versions/2.7/lib/python2.7/site-packages/numexpr-2.1-py2.7-macosx-10.7-x86_64.egg/numexpr/necompiler.py:746: DeprecationWarning: using `oa_ndim == 0` when `op_axes` is NULL is deprecated. Use `oa_ndim == -1` or the MultiNew iterator for NumPy <1.8 compatibility\n",
        "  return compiled_ex(*arguments, **kwargs)\n",
        "/opt/local/Library/Frameworks/Python.framework/Versions/2.7/lib/python2.7/site-packages/numexpr-2.1-py2.7-macosx-10.7-x86_64.egg/numexpr/necompiler.py:746: DeprecationWarning: using `oa_ndim == 0` when `op_axes` is NULL is deprecated. Use `oa_ndim == -1` or the MultiNew iterator for NumPy <1.8 compatibility\n",
        "  return compiled_ex(*arguments, **kwargs)\n",
        "/opt/local/Library/Frameworks/Python.framework/Versions/2.7/lib/python2.7/site-packages/numexpr-2.1-py2.7-macosx-10.7-x86_64.egg/numexpr/necompiler.py:746: DeprecationWarning: using `oa_ndim == 0` when `op_axes` is NULL is deprecated. Use `oa_ndim == -1` or the MultiNew iterator for NumPy <1.8 compatibility\n",
        "  return compiled_ex(*arguments, **kwargs)\n",
        "/opt/local/Library/Frameworks/Python.framework/Versions/2.7/lib/python2.7/site-packages/numexpr-2.1-py2.7-macosx-10.7-x86_64.egg/numexpr/necompiler.py:746: DeprecationWarning: using `oa_ndim == 0` when `op_axes` is NULL is deprecated. Use `oa_ndim == -1` or the MultiNew iterator for NumPy <1.8 compatibility\n",
        "  return compiled_ex(*arguments, **kwargs)\n",
        "/opt/local/Library/Frameworks/Python.framework/Versions/2.7/lib/python2.7/site-packages/numexpr-2.1-py2.7-macosx-10.7-x86_64.egg/numexpr/necompiler.py:746: DeprecationWarning: using `oa_ndim == 0` when `op_axes` is NULL is deprecated. Use `oa_ndim == -1` or the MultiNew iterator for NumPy <1.8 compatibility\n",
        "  return compiled_ex(*arguments, **kwargs)\n",
        "/opt/local/Library/Frameworks/Python.framework/Versions/2.7/lib/python2.7/site-packages/numexpr-2.1-py2.7-macosx-10.7-x86_64.egg/numexpr/necompiler.py:746: DeprecationWarning: using `oa_ndim == 0` when `op_axes` is NULL is deprecated. Use `oa_ndim == -1` or the MultiNew iterator for NumPy <1.8 compatibility\n",
        "  return compiled_ex(*arguments, **kwargs)\n",
        "/opt/local/Library/Frameworks/Python.framework/Versions/2.7/lib/python2.7/site-packages/numexpr-2.1-py2.7-macosx-10.7-x86_64.egg/numexpr/necompiler.py:746: DeprecationWarning: using `oa_ndim == 0` when `op_axes` is NULL is deprecated. Use `oa_ndim == -1` or the MultiNew iterator for NumPy <1.8 compatibility\n",
        "  return compiled_ex(*arguments, **kwargs)\n",
        "/opt/local/Library/Frameworks/Python.framework/Versions/2.7/lib/python2.7/site-packages/numexpr-2.1-py2.7-macosx-10.7-x86_64.egg/numexpr/necompiler.py:746: DeprecationWarning: using `oa_ndim == 0` when `op_axes` is NULL is deprecated. Use `oa_ndim == -1` or the MultiNew iterator for NumPy <1.8 compatibility\n",
        "  return compiled_ex(*arguments, **kwargs)\n",
        "/opt/local/Library/Frameworks/Python.framework/Versions/2.7/lib/python2.7/site-packages/numexpr-2.1-py2.7-macosx-10.7-x86_64.egg/numexpr/necompiler.py:746: DeprecationWarning: using `oa_ndim == 0` when `op_axes` is NULL is deprecated. Use `oa_ndim == -1` or the MultiNew iterator for NumPy <1.8 compatibility\n",
        "  return compiled_ex(*arguments, **kwargs)\n",
        "/opt/local/Library/Frameworks/Python.framework/Versions/2.7/lib/python2.7/site-packages/numexpr-2.1-py2.7-macosx-10.7-x86_64.egg/numexpr/necompiler.py:746: DeprecationWarning: using `oa_ndim == 0` when `op_axes` is NULL is deprecated. Use `oa_ndim == -1` or the MultiNew iterator for NumPy <1.8 compatibility\n",
        "  return compiled_ex(*arguments, **kwargs)\n",
        "/opt/local/Library/Frameworks/Python.framework/Versions/2.7/lib/python2.7/site-packages/numexpr-2.1-py2.7-macosx-10.7-x86_64.egg/numexpr/necompiler.py:746: DeprecationWarning: using `oa_ndim == 0` when `op_axes` is NULL is deprecated. Use `oa_ndim == -1` or the MultiNew iterator for NumPy <1.8 compatibility\n",
        "  return compiled_ex(*arguments, **kwargs)\n",
        "/opt/local/Library/Frameworks/Python.framework/Versions/2.7/lib/python2.7/site-packages/numexpr-2.1-py2.7-macosx-10.7-x86_64.egg/numexpr/necompiler.py:746: DeprecationWarning: using `oa_ndim == 0` when `op_axes` is NULL is deprecated. Use `oa_ndim == -1` or the MultiNew iterator for NumPy <1.8 compatibility\n",
        "  return compiled_ex(*arguments, **kwargs)\n",
        "/opt/local/Library/Frameworks/Python.framework/Versions/2.7/lib/python2.7/site-packages/numexpr-2.1-py2.7-macosx-10.7-x86_64.egg/numexpr/necompiler.py:746: DeprecationWarning: using `oa_ndim == 0` when `op_axes` is NULL is deprecated. Use `oa_ndim == -1` or the MultiNew iterator for NumPy <1.8 compatibility\n",
        "  return compiled_ex(*arguments, **kwargs)\n",
        "/opt/local/Library/Frameworks/Python.framework/Versions/2.7/lib/python2.7/site-packages/numexpr-2.1-py2.7-macosx-10.7-x86_64.egg/numexpr/necompiler.py:746: DeprecationWarning: using `oa_ndim == 0` when `op_axes` is NULL is deprecated. Use `oa_ndim == -1` or the MultiNew iterator for NumPy <1.8 compatibility\n",
        "  return compiled_ex(*arguments, **kwargs)\n",
        "/opt/local/Library/Frameworks/Python.framework/Versions/2.7/lib/python2.7/site-packages/numexpr-2.1-py2.7-macosx-10.7-x86_64.egg/numexpr/necompiler.py:746: DeprecationWarning: using `oa_ndim == 0` when `op_axes` is NULL is deprecated. Use `oa_ndim == -1` or the MultiNew iterator for NumPy <1.8 compatibility\n",
        "  return compiled_ex(*arguments, **kwargs)\n",
        "/opt/local/Library/Frameworks/Python.framework/Versions/2.7/lib/python2.7/site-packages/numexpr-2.1-py2.7-macosx-10.7-x86_64.egg/numexpr/necompiler.py:746: DeprecationWarning: using `oa_ndim == 0` when `op_axes` is NULL is deprecated. Use `oa_ndim == -1` or the MultiNew iterator for NumPy <1.8 compatibility\n",
        "  return compiled_ex(*arguments, **kwargs)\n",
        "/opt/local/Library/Frameworks/Python.framework/Versions/2.7/lib/python2.7/site-packages/numexpr-2.1-py2.7-macosx-10.7-x86_64.egg/numexpr/necompiler.py:746: DeprecationWarning: using `oa_ndim == 0` when `op_axes` is NULL is deprecated. Use `oa_ndim == -1` or the MultiNew iterator for NumPy <1.8 compatibility\n",
        "  return compiled_ex(*arguments, **kwargs)\n",
        "/opt/local/Library/Frameworks/Python.framework/Versions/2.7/lib/python2.7/site-packages/numexpr-2.1-py2.7-macosx-10.7-x86_64.egg/numexpr/necompiler.py:746: DeprecationWarning: using `oa_ndim == 0` when `op_axes` is NULL is deprecated. Use `oa_ndim == -1` or the MultiNew iterator for NumPy <1.8 compatibility\n",
        "  return compiled_ex(*arguments, **kwargs)\n",
        "/opt/local/Library/Frameworks/Python.framework/Versions/2.7/lib/python2.7/site-packages/numexpr-2.1-py2.7-macosx-10.7-x86_64.egg/numexpr/necompiler.py:746: DeprecationWarning: using `oa_ndim == 0` when `op_axes` is NULL is deprecated. Use `oa_ndim == -1` or the MultiNew iterator for NumPy <1.8 compatibility\n",
        "  return compiled_ex(*arguments, **kwargs)\n",
        "/opt/local/Library/Frameworks/Python.framework/Versions/2.7/lib/python2.7/site-packages/numexpr-2.1-py2.7-macosx-10.7-x86_64.egg/numexpr/necompiler.py:746: DeprecationWarning: using `oa_ndim == 0` when `op_axes` is NULL is deprecated. Use `oa_ndim == -1` or the MultiNew iterator for NumPy <1.8 compatibility\n",
        "  return compiled_ex(*arguments, **kwargs)\n",
        "/opt/local/Library/Frameworks/Python.framework/Versions/2.7/lib/python2.7/site-packages/numexpr-2.1-py2.7-macosx-10.7-x86_64.egg/numexpr/necompiler.py:746: DeprecationWarning: using `oa_ndim == 0` when `op_axes` is NULL is deprecated. Use `oa_ndim == -1` or the MultiNew iterator for NumPy <1.8 compatibility\n",
        "  return compiled_ex(*arguments, **kwargs)\n",
        "/opt/local/Library/Frameworks/Python.framework/Versions/2.7/lib/python2.7/site-packages/numexpr-2.1-py2.7-macosx-10.7-x86_64.egg/numexpr/necompiler.py:746: DeprecationWarning: using `oa_ndim == 0` when `op_axes` is NULL is deprecated. Use `oa_ndim == -1` or the MultiNew iterator for NumPy <1.8 compatibility\n",
        "  return compiled_ex(*arguments, **kwargs)\n",
        "/opt/local/Library/Frameworks/Python.framework/Versions/2.7/lib/python2.7/site-packages/numexpr-2.1-py2.7-macosx-10.7-x86_64.egg/numexpr/necompiler.py:746: DeprecationWarning: using `oa_ndim == 0` when `op_axes` is NULL is deprecated. Use `oa_ndim == -1` or the MultiNew iterator for NumPy <1.8 compatibility\n",
        "  return compiled_ex(*arguments, **kwargs)\n",
        "/opt/local/Library/Frameworks/Python.framework/Versions/2.7/lib/python2.7/site-packages/numexpr-2.1-py2.7-macosx-10.7-x86_64.egg/numexpr/necompiler.py:746: DeprecationWarning: using `oa_ndim == 0` when `op_axes` is NULL is deprecated. Use `oa_ndim == -1` or the MultiNew iterator for NumPy <1.8 compatibility\n",
        "  return compiled_ex(*arguments, **kwargs)\n",
        "/opt/local/Library/Frameworks/Python.framework/Versions/2.7/lib/python2.7/site-packages/numexpr-2.1-py2.7-macosx-10.7-x86_64.egg/numexpr/necompiler.py:746: DeprecationWarning: using `oa_ndim == 0` when `op_axes` is NULL is deprecated. Use `oa_ndim == -1` or the MultiNew iterator for NumPy <1.8 compatibility\n",
        "  return compiled_ex(*arguments, **kwargs)\n"
       ]
      },
      {
       "output_type": "stream",
       "stream": "stderr",
       "text": [
        "/opt/local/Library/Frameworks/Python.framework/Versions/2.7/lib/python2.7/site-packages/numexpr-2.1-py2.7-macosx-10.7-x86_64.egg/numexpr/necompiler.py:746: DeprecationWarning: using `oa_ndim == 0` when `op_axes` is NULL is deprecated. Use `oa_ndim == -1` or the MultiNew iterator for NumPy <1.8 compatibility\n",
        "  return compiled_ex(*arguments, **kwargs)\n",
        "/opt/local/Library/Frameworks/Python.framework/Versions/2.7/lib/python2.7/site-packages/numexpr-2.1-py2.7-macosx-10.7-x86_64.egg/numexpr/necompiler.py:746: DeprecationWarning: using `oa_ndim == 0` when `op_axes` is NULL is deprecated. Use `oa_ndim == -1` or the MultiNew iterator for NumPy <1.8 compatibility\n",
        "  return compiled_ex(*arguments, **kwargs)\n",
        "/opt/local/Library/Frameworks/Python.framework/Versions/2.7/lib/python2.7/site-packages/numexpr-2.1-py2.7-macosx-10.7-x86_64.egg/numexpr/necompiler.py:746: DeprecationWarning: using `oa_ndim == 0` when `op_axes` is NULL is deprecated. Use `oa_ndim == -1` or the MultiNew iterator for NumPy <1.8 compatibility\n",
        "  return compiled_ex(*arguments, **kwargs)\n",
        "/opt/local/Library/Frameworks/Python.framework/Versions/2.7/lib/python2.7/site-packages/numexpr-2.1-py2.7-macosx-10.7-x86_64.egg/numexpr/necompiler.py:746: DeprecationWarning: using `oa_ndim == 0` when `op_axes` is NULL is deprecated. Use `oa_ndim == -1` or the MultiNew iterator for NumPy <1.8 compatibility\n",
        "  return compiled_ex(*arguments, **kwargs)\n",
        "/opt/local/Library/Frameworks/Python.framework/Versions/2.7/lib/python2.7/site-packages/numexpr-2.1-py2.7-macosx-10.7-x86_64.egg/numexpr/necompiler.py:746: DeprecationWarning: using `oa_ndim == 0` when `op_axes` is NULL is deprecated. Use `oa_ndim == -1` or the MultiNew iterator for NumPy <1.8 compatibility\n",
        "  return compiled_ex(*arguments, **kwargs)\n",
        "/opt/local/Library/Frameworks/Python.framework/Versions/2.7/lib/python2.7/site-packages/numexpr-2.1-py2.7-macosx-10.7-x86_64.egg/numexpr/necompiler.py:746: DeprecationWarning: using `oa_ndim == 0` when `op_axes` is NULL is deprecated. Use `oa_ndim == -1` or the MultiNew iterator for NumPy <1.8 compatibility\n",
        "  return compiled_ex(*arguments, **kwargs)\n",
        "/opt/local/Library/Frameworks/Python.framework/Versions/2.7/lib/python2.7/site-packages/numexpr-2.1-py2.7-macosx-10.7-x86_64.egg/numexpr/necompiler.py:746: DeprecationWarning: using `oa_ndim == 0` when `op_axes` is NULL is deprecated. Use `oa_ndim == -1` or the MultiNew iterator for NumPy <1.8 compatibility\n",
        "  return compiled_ex(*arguments, **kwargs)\n",
        "/opt/local/Library/Frameworks/Python.framework/Versions/2.7/lib/python2.7/site-packages/numexpr-2.1-py2.7-macosx-10.7-x86_64.egg/numexpr/necompiler.py:746: DeprecationWarning: using `oa_ndim == 0` when `op_axes` is NULL is deprecated. Use `oa_ndim == -1` or the MultiNew iterator for NumPy <1.8 compatibility\n",
        "  return compiled_ex(*arguments, **kwargs)\n"
       ]
      },
      {
       "metadata": {},
       "output_type": "pyout",
       "prompt_number": 79,
       "text": [
        "array(['Var65_IMPUTED_LOG', 'Var78_IMPUTED_LOG1', 'Var181_IMPUTED_LOG1',\n",
        "       'Var173_IMPUTED_LOG1', 'Var143_IMPUTED_LOG1', 'Var72_IMPUTED_LOG',\n",
        "       'Var35_IMPUTED_LOG1', 'Var132_IMPUTED_LOG1', 'Var44_IMPUTED_LOG1'], \n",
        "      dtype='|S19')"
       ]
      }
     ],
     "prompt_number": 79
    },
    {
     "cell_type": "code",
     "collapsed": false,
     "input": [
      "## whiten features\n",
      "feature_whitener = custsession.whiten_features(auto_remove=True)\n",
      "transformers.append(feature_whitener)\n",
      "for f in custsession.get_features_of(custsession.is_numerical_feature):\n",
      "    assert np.isclose(custsession.data[f].mean(), 0, rtol=1e-1, atol = 1e-1) \n",
      "    assert np.isclose(custsession.data[f].std(), 1, rtol=1e-1, atol = 1e-1)"
     ],
     "language": "python",
     "metadata": {},
     "outputs": [],
     "prompt_number": 80
    },
    {
     "cell_type": "code",
     "collapsed": false,
     "input": [
      "## find redundant features \n",
      "custsession.find_redundant_features()"
     ],
     "language": "python",
     "metadata": {},
     "outputs": [
      {
       "metadata": {},
       "output_type": "pyout",
       "prompt_number": 81,
       "text": [
        "[]"
       ]
      }
     ],
     "prompt_number": 81
    },
    {
     "cell_type": "code",
     "collapsed": false,
     "input": [
      "## numerize categorical features\n",
      "custsession.get_features_of(custsession.is_categorical_feature)"
     ],
     "language": "python",
     "metadata": {},
     "outputs": [
      {
       "metadata": {},
       "output_type": "pyout",
       "prompt_number": 82,
       "text": [
        "array(['Var193', 'Var198', 'Var204', 'Var207', 'Var211', 'Var212',\n",
        "       'Var216', 'Var220', 'Var221', 'Var222', 'Var226', 'Var227',\n",
        "       'Var228', 'Var13_IS_IMPUTED', 'Var112_IS_IMPUTED',\n",
        "       'Var153_IS_IMPUTED', 'Var85_IS_IMPUTED', 'Var119_IS_IMPUTED',\n",
        "       'Var83_IS_IMPUTED', 'Var81_IS_IMPUTED', 'Var208_IMPUTED',\n",
        "       'Var123_IS_IMPUTED', 'Var28_IS_IMPUTED', 'Var24_IS_IMPUTED',\n",
        "       'Var25_IS_IMPUTED', 'Var21_IS_IMPUTED', 'Var44_IS_IMPUTED',\n",
        "       'Var65_IS_IMPUTED', 'Var125_IS_IMPUTED', 'Var7_IS_IMPUTED',\n",
        "       'Var6_IS_IMPUTED', 'Var223_IMPUTED', 'Var229_IMPUTED',\n",
        "       'Var133_IS_IMPUTED', 'Var160_IS_IMPUTED', 'Var22_IS_IMPUTED',\n",
        "       'Var149_IS_IMPUTED', 'Var143_IS_IMPUTED', 'Var205_IMPUTED',\n",
        "       'Var206_IMPUTED', 'Var201_IMPUTED', 'Var200_IMPUTED',\n",
        "       'Var203_IMPUTED', 'Var181_IS_IMPUTED', 'Var76_IS_IMPUTED',\n",
        "       'Var74_IS_IMPUTED', 'Var72_IS_IMPUTED', 'Var126_IS_IMPUTED',\n",
        "       'Var94_IS_IMPUTED', 'Var140_IS_IMPUTED', 'Var163_IS_IMPUTED',\n",
        "       'Var225_IMPUTED', 'Var38_IS_IMPUTED', 'Var109_IS_IMPUTED',\n",
        "       'Var132_IS_IMPUTED', 'Var144_IS_IMPUTED', 'Var35_IS_IMPUTED',\n",
        "       'Var217_IMPUTED', 'Var51_IS_IMPUTED', 'Var78_IS_IMPUTED',\n",
        "       'Var202_IMPUTED', 'Var214_IMPUTED', 'Var173_IS_IMPUTED',\n",
        "       'Var199_IMPUTED', 'Var218_IMPUTED', 'Var219_IMPUTED',\n",
        "       'Var194_IMPUTED', 'Var197_IMPUTED', 'Var189_IS_IMPUTED',\n",
        "       'Var134_IS_IMPUTED', 'Var192_IMPUTED'], \n",
        "      dtype='|S17')"
       ]
      }
     ],
     "prompt_number": 82
    },
    {
     "cell_type": "code",
     "collapsed": false,
     "input": [],
     "language": "python",
     "metadata": {},
     "outputs": []
    }
   ],
   "metadata": {}
  }
 ]
}