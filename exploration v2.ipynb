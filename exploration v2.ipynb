{
 "metadata": {
  "name": "",
  "signature": "sha256:119e59d9aea25c45a64a3f61f168562e26b7119a2d9c5f17c4147eb87b3f660f"
 },
 "nbformat": 3,
 "nbformat_minor": 0,
 "worksheets": [
  {
   "cells": [
    {
     "cell_type": "code",
     "collapsed": false,
     "input": [
      "%load_ext autoreload\n",
      "%autoreload 2\n",
      "%matplotlib inline"
     ],
     "language": "python",
     "metadata": {},
     "outputs": [],
     "prompt_number": 1
    },
    {
     "cell_type": "code",
     "collapsed": false,
     "input": [
      "from munging import session\n",
      "from munging import transform\n",
      "\n",
      "\n",
      "import matplotlib.pyplot as plt\n",
      "import pandas as pd\n",
      "import numpy as np\n",
      "from scipy import stats\n",
      "from sklearn.cross_validation import train_test_split"
     ],
     "language": "python",
     "metadata": {},
     "outputs": [],
     "prompt_number": 2
    },
    {
     "cell_type": "code",
     "collapsed": false,
     "input": [
      "## load data\n",
      "custdata = pd.read_table(\"data/orange_small_train.data.gz\", \n",
      "                         compression=\"gzip\", na_values=[\"NA\", \"\"], \n",
      "                         delimiter = \"\\t\", header = 0)\n",
      "churn = np.loadtxt(\"data/orange_small_train_churn.labels.txt\")\n",
      "custdata[\"Churn\"] = np.where(churn==1, \"churn\", \"nochurn\")\n",
      "custdata.head(n = 3)"
     ],
     "language": "python",
     "metadata": {},
     "outputs": [
      {
       "html": [
        "<div style=\"max-height:1000px;max-width:1500px;overflow:auto;\">\n",
        "<table border=\"1\" class=\"dataframe\">\n",
        "  <thead>\n",
        "    <tr style=\"text-align: right;\">\n",
        "      <th></th>\n",
        "      <th>Var1</th>\n",
        "      <th>Var2</th>\n",
        "      <th>Var3</th>\n",
        "      <th>Var4</th>\n",
        "      <th>Var5</th>\n",
        "      <th>Var6</th>\n",
        "      <th>Var7</th>\n",
        "      <th>Var8</th>\n",
        "      <th>Var9</th>\n",
        "      <th>Var10</th>\n",
        "      <th>...</th>\n",
        "      <th>Var222</th>\n",
        "      <th>Var223</th>\n",
        "      <th>Var224</th>\n",
        "      <th>Var225</th>\n",
        "      <th>Var226</th>\n",
        "      <th>Var227</th>\n",
        "      <th>Var228</th>\n",
        "      <th>Var229</th>\n",
        "      <th>Var230</th>\n",
        "      <th>Churn</th>\n",
        "    </tr>\n",
        "  </thead>\n",
        "  <tbody>\n",
        "    <tr>\n",
        "      <th>0</th>\n",
        "      <td>NaN</td>\n",
        "      <td>NaN</td>\n",
        "      <td>NaN</td>\n",
        "      <td>NaN</td>\n",
        "      <td>NaN</td>\n",
        "      <td> 1526</td>\n",
        "      <td> 7</td>\n",
        "      <td>NaN</td>\n",
        "      <td>NaN</td>\n",
        "      <td>NaN</td>\n",
        "      <td>...</td>\n",
        "      <td> fXVEsaq</td>\n",
        "      <td> jySVZNlOJy</td>\n",
        "      <td> NaN</td>\n",
        "      <td>  NaN</td>\n",
        "      <td> xb3V</td>\n",
        "      <td>    RAYp</td>\n",
        "      <td> F2FyR07IdsN7I</td>\n",
        "      <td>  NaN</td>\n",
        "      <td>NaN</td>\n",
        "      <td> nochurn</td>\n",
        "    </tr>\n",
        "    <tr>\n",
        "      <th>1</th>\n",
        "      <td>NaN</td>\n",
        "      <td>NaN</td>\n",
        "      <td>NaN</td>\n",
        "      <td>NaN</td>\n",
        "      <td>NaN</td>\n",
        "      <td>  525</td>\n",
        "      <td> 0</td>\n",
        "      <td>NaN</td>\n",
        "      <td>NaN</td>\n",
        "      <td>NaN</td>\n",
        "      <td>...</td>\n",
        "      <td> 2Kb5FSF</td>\n",
        "      <td> LM8l689qOp</td>\n",
        "      <td> NaN</td>\n",
        "      <td>  NaN</td>\n",
        "      <td> fKCe</td>\n",
        "      <td>    RAYp</td>\n",
        "      <td> F2FyR07IdsN7I</td>\n",
        "      <td>  NaN</td>\n",
        "      <td>NaN</td>\n",
        "      <td>   churn</td>\n",
        "    </tr>\n",
        "    <tr>\n",
        "      <th>2</th>\n",
        "      <td>NaN</td>\n",
        "      <td>NaN</td>\n",
        "      <td>NaN</td>\n",
        "      <td>NaN</td>\n",
        "      <td>NaN</td>\n",
        "      <td> 5236</td>\n",
        "      <td> 7</td>\n",
        "      <td>NaN</td>\n",
        "      <td>NaN</td>\n",
        "      <td>NaN</td>\n",
        "      <td>...</td>\n",
        "      <td> NKv4yOc</td>\n",
        "      <td> jySVZNlOJy</td>\n",
        "      <td> NaN</td>\n",
        "      <td> kG3k</td>\n",
        "      <td> Qu4f</td>\n",
        "      <td> 02N6s8f</td>\n",
        "      <td> ib5G6X1eUxUn6</td>\n",
        "      <td> am7c</td>\n",
        "      <td>NaN</td>\n",
        "      <td> nochurn</td>\n",
        "    </tr>\n",
        "  </tbody>\n",
        "</table>\n",
        "<p>3 rows \u00d7 231 columns</p>\n",
        "</div>"
       ],
       "metadata": {},
       "output_type": "pyout",
       "prompt_number": 3,
       "text": [
        "   Var1  Var2  Var3  Var4  Var5  Var6  Var7  Var8  Var9  Var10  ...    \\\n",
        "0   NaN   NaN   NaN   NaN   NaN  1526     7   NaN   NaN    NaN  ...     \n",
        "1   NaN   NaN   NaN   NaN   NaN   525     0   NaN   NaN    NaN  ...     \n",
        "2   NaN   NaN   NaN   NaN   NaN  5236     7   NaN   NaN    NaN  ...     \n",
        "\n",
        "    Var222      Var223  Var224  Var225  Var226   Var227         Var228  \\\n",
        "0  fXVEsaq  jySVZNlOJy     NaN     NaN    xb3V     RAYp  F2FyR07IdsN7I   \n",
        "1  2Kb5FSF  LM8l689qOp     NaN     NaN    fKCe     RAYp  F2FyR07IdsN7I   \n",
        "2  NKv4yOc  jySVZNlOJy     NaN    kG3k    Qu4f  02N6s8f  ib5G6X1eUxUn6   \n",
        "\n",
        "   Var229  Var230    Churn  \n",
        "0     NaN     NaN  nochurn  \n",
        "1     NaN     NaN    churn  \n",
        "2    am7c     NaN  nochurn  \n",
        "\n",
        "[3 rows x 231 columns]"
       ]
      }
     ],
     "prompt_number": 3
    },
    {
     "cell_type": "code",
     "collapsed": false,
     "input": [
      "train, test = train_test_split(np.arange(custdata.shape[0]), test_size = 0.15)\n",
      "test_data = custdata.iloc[test, :]\n",
      "custdata = custdata.iloc[train, :]\n",
      "print custdata.shape, test_data.shape"
     ],
     "language": "python",
     "metadata": {},
     "outputs": [
      {
       "output_type": "stream",
       "stream": "stdout",
       "text": [
        "(42500, 231) (7500, 231)\n"
       ]
      }
     ],
     "prompt_number": 4
    },
    {
     "cell_type": "code",
     "collapsed": false,
     "input": [
      "custsession = session.Session(custdata, 'Churn')\n",
      "transformers = []\n",
      "print custsession.get_parameters()"
     ],
     "language": "python",
     "metadata": {},
     "outputs": [
      {
       "output_type": "stream",
       "stream": "stdout",
       "text": [
        "{'SKEWNESS_THR': 20, 'FRAC_OF_NA_TO_IGNORE': 0.95, 'FRAC_OF_FEAT_TO_BE_NONINFORMATIVE': 0.95, 'REDUNDANT_FEAT_CORR_THR': 0.95, 'MIN_NUM_VALUES_FOR_NUMERICAL': 5}\n"
       ]
      }
     ],
     "prompt_number": 5
    },
    {
     "cell_type": "code",
     "collapsed": false,
     "input": [
      "numerical_features = custsession.get_features_of(criterion=custsession.is_numerical_feature)\n",
      "categorical_features = custsession.get_features_of(criterion=custsession.is_categorical_feature)\n",
      "all_features = set(custdata.columns)\n",
      "all_features.difference(np.union1d(numerical_features, categorical_features))"
     ],
     "language": "python",
     "metadata": {},
     "outputs": [
      {
       "metadata": {},
       "output_type": "pyout",
       "prompt_number": 6,
       "text": [
        "{'Churn'}"
       ]
      }
     ],
     "prompt_number": 6
    },
    {
     "cell_type": "code",
     "collapsed": false,
     "input": [
      "## remove heavy missing value features\n",
      "na_features = custsession.get_features_of(criterion=custsession.is_na_feature)\n",
      "features_to_ignore = custsession.get_features_of(criterion=custsession.is_na_heavy)\n",
      "remover = custsession.remove_features(features_to_ignore)\n",
      "transformers.append(remover)\n",
      "print len(custsession.get_all_input_features())"
     ],
     "language": "python",
     "metadata": {},
     "outputs": [
      {
       "output_type": "stream",
       "stream": "stdout",
       "text": [
        "77\n"
       ]
      }
     ],
     "prompt_number": 7
    },
    {
     "cell_type": "code",
     "collapsed": false,
     "input": [
      "custsession.get_features_of(custsession.is_na_feature)"
     ],
     "language": "python",
     "metadata": {},
     "outputs": [
      {
       "metadata": {},
       "output_type": "pyout",
       "prompt_number": 8,
       "text": [
        "array(['Var6', 'Var7', 'Var13', 'Var21', 'Var22', 'Var24', 'Var25',\n",
        "       'Var28', 'Var35', 'Var38', 'Var44', 'Var51', 'Var65', 'Var72',\n",
        "       'Var74', 'Var76', 'Var78', 'Var81', 'Var83', 'Var85', 'Var94',\n",
        "       'Var109', 'Var112', 'Var119', 'Var123', 'Var125', 'Var126',\n",
        "       'Var132', 'Var133', 'Var134', 'Var140', 'Var143', 'Var144',\n",
        "       'Var149', 'Var153', 'Var160', 'Var163', 'Var173', 'Var181',\n",
        "       'Var189', 'Var192', 'Var194', 'Var197', 'Var199', 'Var200',\n",
        "       'Var201', 'Var203', 'Var205', 'Var206', 'Var208', 'Var214',\n",
        "       'Var217', 'Var218', 'Var219', 'Var223', 'Var225', 'Var229'], \n",
        "      dtype='|S6')"
       ]
      }
     ],
     "prompt_number": 8
    },
    {
     "cell_type": "code",
     "collapsed": false,
     "input": [
      "## impute missing value features \n",
      "feature_imputer = custsession.impute_features(auto_remove=True)\n",
      "transformers.append(feature_imputer)\n",
      "print custsession.get_features_of(custsession.is_na_feature)"
     ],
     "language": "python",
     "metadata": {},
     "outputs": [
      {
       "output_type": "stream",
       "stream": "stdout",
       "text": [
        "[]\n"
       ]
      }
     ],
     "prompt_number": 9
    },
    {
     "cell_type": "code",
     "collapsed": false,
     "input": [
      "## remove non-informative (near-zero variance) feature\n",
      "noninformative_feats = custsession.get_features_of(custsession.is_noninformative_feature)\n",
      "remover = custsession.remove_features(noninformative_feats)\n",
      "transformers.append(remover)\n",
      "print custsession.get_features_of(custsession.is_noninformative_feature)"
     ],
     "language": "python",
     "metadata": {},
     "outputs": [
      {
       "output_type": "stream",
       "stream": "stdout",
       "text": [
        "[]\n"
       ]
      }
     ],
     "prompt_number": 10
    },
    {
     "cell_type": "code",
     "collapsed": false,
     "input": [
      "## evenize skewed features\n",
      "custsession.get_features_of(custsession.is_skewed_numerical_feature)\n",
      "feature_evenizer = custsession.evenize_skew_features(auto_remove=True)\n",
      "transformers.append(feature_evenizer)\n",
      "custsession.get_features_of(custsession.is_skewed_numerical_feature)"
     ],
     "language": "python",
     "metadata": {},
     "outputs": [
      {
       "metadata": {},
       "output_type": "pyout",
       "prompt_number": 11,
       "text": [
        "array(['Var65_IMPUTED_LOG', 'Var78_IMPUTED_LOG1', 'Var181_IMPUTED_LOG1',\n",
        "       'Var173_IMPUTED_LOG1', 'Var143_IMPUTED_LOG1', 'Var72_IMPUTED_LOG',\n",
        "       'Var35_IMPUTED_LOG1', 'Var132_IMPUTED_LOG1', 'Var44_IMPUTED_LOG1'], \n",
        "      dtype='|S19')"
       ]
      }
     ],
     "prompt_number": 11
    },
    {
     "cell_type": "code",
     "collapsed": false,
     "input": [
      "## whiten features\n",
      "feature_whitener = custsession.whiten_features(auto_remove=True)\n",
      "transformers.append(feature_whitener)\n",
      "for f in custsession.get_features_of(custsession.is_numerical_feature):\n",
      "    assert np.isclose(custsession.data[f].mean(), 0, rtol=1e-1, atol = 1e-1) \n",
      "    assert np.isclose(custsession.data[f].std(), 1, rtol=1e-1, atol = 1e-1)"
     ],
     "language": "python",
     "metadata": {},
     "outputs": [],
     "prompt_number": 12
    },
    {
     "cell_type": "code",
     "collapsed": false,
     "input": [
      "## find redundant features \n",
      "custsession.find_redundant_features()"
     ],
     "language": "python",
     "metadata": {},
     "outputs": [
      {
       "metadata": {},
       "output_type": "pyout",
       "prompt_number": 13,
       "text": [
        "[]"
       ]
      }
     ],
     "prompt_number": 13
    },
    {
     "cell_type": "code",
     "collapsed": false,
     "input": [
      "## numerize categorical features\n",
      "categorical_features = custsession.get_features_of(custsession.is_categorical_feature)\n",
      "numerizer = custsession.numerize_categorical_features(auto_remove=False)\n",
      "transformers.append(numerizer)"
     ],
     "language": "python",
     "metadata": {},
     "outputs": [],
     "prompt_number": 14
    },
    {
     "cell_type": "code",
     "collapsed": false,
     "input": [
      "## explore categorical data\n",
      "print custsession.print_categorial_crosstable(feature_names=['Var211',  ])\n",
      "custsession.plot_feature_pair(\"Var211\", \"Churn\")"
     ],
     "language": "python",
     "metadata": {},
     "outputs": [
      {
       "output_type": "stream",
       "stream": "stdout",
       "text": [
        "        train_churn  test_churn  overall_churn\n",
        "Var211                                        \n",
        "L84s       0.076544    0.076513       0.076535\n",
        "All        0.073277    0.071529       0.072753\n",
        "Mtgm       0.059758    0.050309       0.056969\n"
       ]
      },
      {
       "metadata": {},
       "output_type": "display_data",
       "png": "[encoded data removed]",
       "text": [
        "<matplotlib.figure.Figure at 0x7ff0cc2204d0>"
       ]
      }
     ],
     "prompt_number": 15
    },
    {
     "cell_type": "code",
     "collapsed": false,
     "input": [
      "## explore numerical data\n",
      "custsession.plot_feature_pair(\"Var73_LOG_WHITE\", \"Churn\")\n",
      "custsession.plot_feature_pair(\"Var211\", \"Var73_LOG_WHITE\")\n",
      "custsession.plot_feature_pair('Var57_WHITE', 'Var113_WHITE')"
     ],
     "language": "python",
     "metadata": {},
     "outputs": [
      {
       "metadata": {},
       "output_type": "display_data",
       "png": "[encoded data removed]",
       "text": [
        "<matplotlib.figure.Figure at 0x7ff0cbe710d0>"
       ]
      },
      {
       "metadata": {},
       "output_type": "display_data",
       "png": "[encoded data removed]",
       "text": [
        "<matplotlib.figure.Figure at 0x7ff0cc1a47d0>"
       ]
      },
      {
       "metadata": {},
       "output_type": "display_data",
       "png": "[encoded data removed]",
       "text": [
        "<matplotlib.figure.Figure at 0x7ff0cc1a4bd0>"
       ]
      }
     ],
     "prompt_number": 16
    },
    {
     "cell_type": "code",
     "collapsed": false,
     "input": [
      "redudant_features = custsession.find_redundant_features()\n",
      "remover = custsession.remove_features(redudant_features)\n",
      "transformers.append(remover)\n",
      "custsession.find_redundant_features()"
     ],
     "language": "python",
     "metadata": {},
     "outputs": [
      {
       "metadata": {},
       "output_type": "pyout",
       "prompt_number": 17,
       "text": [
        "[]"
       ]
      }
     ],
     "prompt_number": 17
    },
    {
     "cell_type": "code",
     "collapsed": false,
     "input": [],
     "language": "python",
     "metadata": {},
     "outputs": []
    },
    {
     "cell_type": "code",
     "collapsed": false,
     "input": [],
     "language": "python",
     "metadata": {},
     "outputs": []
    },
    {
     "cell_type": "code",
     "collapsed": false,
     "input": [],
     "language": "python",
     "metadata": {},
     "outputs": []
    },
    {
     "cell_type": "code",
     "collapsed": false,
     "input": [],
     "language": "python",
     "metadata": {},
     "outputs": []
    },
    {
     "cell_type": "code",
     "collapsed": false,
     "input": [
      "## test all transformers on the new data \n",
      "combiners = transform.TransformPipeline(transformers)\n",
      "transformed_test = combiners.transform(test_data)\n",
      "print transformed_test.shape\n",
      "print len(custsession.get_all_input_features())"
     ],
     "language": "python",
     "metadata": {},
     "outputs": [
      {
       "output_type": "stream",
       "stream": "stdout",
       "text": [
        "(7500, 150)\n",
        "149\n"
       ]
      }
     ],
     "prompt_number": 34
    },
    {
     "cell_type": "code",
     "collapsed": false,
     "input": [
      "transformed_test.head()"
     ],
     "language": "python",
     "metadata": {},
     "outputs": [
      {
       "html": [
        "<div style=\"max-height:1000px;max-width:1500px;overflow:auto;\">\n",
        "<table border=\"1\" class=\"dataframe\">\n",
        "  <thead>\n",
        "    <tr style=\"text-align: right;\">\n",
        "      <th></th>\n",
        "      <th>Var193</th>\n",
        "      <th>Var198</th>\n",
        "      <th>Var204</th>\n",
        "      <th>Var207</th>\n",
        "      <th>Var211</th>\n",
        "      <th>Var212</th>\n",
        "      <th>Var216</th>\n",
        "      <th>Var220</th>\n",
        "      <th>Var221</th>\n",
        "      <th>Var222</th>\n",
        "      <th>...</th>\n",
        "      <th>Var51_IS_IMPUTED_churn_NUMERIZED</th>\n",
        "      <th>Var202_IMPUTED_churn_NUMERIZED</th>\n",
        "      <th>Var214_IMPUTED_churn_NUMERIZED</th>\n",
        "      <th>Var199_IMPUTED_churn_NUMERIZED</th>\n",
        "      <th>Var218_IMPUTED_churn_NUMERIZED</th>\n",
        "      <th>Var219_IMPUTED_churn_NUMERIZED</th>\n",
        "      <th>Var194_IMPUTED_churn_NUMERIZED</th>\n",
        "      <th>Var197_IMPUTED_churn_NUMERIZED</th>\n",
        "      <th>Var189_IS_IMPUTED_churn_NUMERIZED</th>\n",
        "      <th>Var192_IMPUTED_churn_NUMERIZED</th>\n",
        "    </tr>\n",
        "  </thead>\n",
        "  <tbody>\n",
        "    <tr>\n",
        "      <th>0</th>\n",
        "      <td>    RO12</td>\n",
        "      <td> LnrJJaC</td>\n",
        "      <td> WIr3</td>\n",
        "      <td> DHn_WUyBhW_whjA88g9bvA64_</td>\n",
        "      <td> L84s</td>\n",
        "      <td>    CrNX</td>\n",
        "      <td> y5FU_7t</td>\n",
        "      <td> BRDiujb</td>\n",
        "      <td> d0EEeJi</td>\n",
        "      <td> ncQn8b6</td>\n",
        "      <td>...</td>\n",
        "      <td> 0.073393</td>\n",
        "      <td> 0.250000</td>\n",
        "      <td> 0.087009</td>\n",
        "      <td> 0.000000</td>\n",
        "      <td> 0.059772</td>\n",
        "      <td> 0.073171</td>\n",
        "      <td> 0.076183</td>\n",
        "      <td> 0.058824</td>\n",
        "      <td> 0.07183</td>\n",
        "      <td> 0.090909</td>\n",
        "    </tr>\n",
        "    <tr>\n",
        "      <th>1</th>\n",
        "      <td>    RO12</td>\n",
        "      <td> 82ydmQ4</td>\n",
        "      <td> VILw</td>\n",
        "      <td>                me75fM6ugJ</td>\n",
        "      <td> L84s</td>\n",
        "      <td> NhsEn4L</td>\n",
        "      <td> mAja5EA</td>\n",
        "      <td> FonmS85</td>\n",
        "      <td>    oslk</td>\n",
        "      <td> PC0a_vf</td>\n",
        "      <td>...</td>\n",
        "      <td> 0.073393</td>\n",
        "      <td> 0.000000</td>\n",
        "      <td> 0.087009</td>\n",
        "      <td> 0.054545</td>\n",
        "      <td> 0.059772</td>\n",
        "      <td> 0.073171</td>\n",
        "      <td> 0.076183</td>\n",
        "      <td> 0.058824</td>\n",
        "      <td> 0.07183</td>\n",
        "      <td> 0.090909</td>\n",
        "    </tr>\n",
        "    <tr>\n",
        "      <th>2</th>\n",
        "      <td> AERks4l</td>\n",
        "      <td> fhk21Ss</td>\n",
        "      <td> VILw</td>\n",
        "      <td>       7M47J5GA0pTYIFxg5uy</td>\n",
        "      <td> L84s</td>\n",
        "      <td> QsQAxv5</td>\n",
        "      <td> 11pJPFL</td>\n",
        "      <td> 4UxGlow</td>\n",
        "      <td> QKW8DRm</td>\n",
        "      <td> catzS2D</td>\n",
        "      <td>...</td>\n",
        "      <td> 0.073393</td>\n",
        "      <td> 0.000000</td>\n",
        "      <td> 0.000000</td>\n",
        "      <td> 0.064935</td>\n",
        "      <td> 0.059772</td>\n",
        "      <td> 0.073171</td>\n",
        "      <td> 0.076183</td>\n",
        "      <td> 0.081286</td>\n",
        "      <td> 0.07183</td>\n",
        "      <td> 0.090909</td>\n",
        "    </tr>\n",
        "    <tr>\n",
        "      <th>3</th>\n",
        "      <td>    RO12</td>\n",
        "      <td> Gs977fS</td>\n",
        "      <td> Nbbb</td>\n",
        "      <td>                   0MCPoln</td>\n",
        "      <td> L84s</td>\n",
        "      <td>    CrNX</td>\n",
        "      <td> y5FewfI</td>\n",
        "      <td> OBFS5vk</td>\n",
        "      <td> d0EEeJi</td>\n",
        "      <td> fTRaxql</td>\n",
        "      <td>...</td>\n",
        "      <td> 0.073393</td>\n",
        "      <td> 0.000000</td>\n",
        "      <td> 0.087009</td>\n",
        "      <td> 0.097561</td>\n",
        "      <td> 0.059772</td>\n",
        "      <td> 0.075743</td>\n",
        "      <td> 0.076183</td>\n",
        "      <td> 0.081286</td>\n",
        "      <td> 0.07183</td>\n",
        "      <td> 0.090909</td>\n",
        "    </tr>\n",
        "    <tr>\n",
        "      <th>4</th>\n",
        "      <td>    RO12</td>\n",
        "      <td> 82ydmQ4</td>\n",
        "      <td> Nbbb</td>\n",
        "      <td>                me75fM6ugJ</td>\n",
        "      <td> L84s</td>\n",
        "      <td> NhsEn4L</td>\n",
        "      <td> mAjbk_S</td>\n",
        "      <td> FonmS85</td>\n",
        "      <td>    oslk</td>\n",
        "      <td> PC0a_vf</td>\n",
        "      <td>...</td>\n",
        "      <td> 0.073393</td>\n",
        "      <td> 0.137931</td>\n",
        "      <td> 0.000000</td>\n",
        "      <td> 0.033101</td>\n",
        "      <td> 0.079680</td>\n",
        "      <td> 0.054264</td>\n",
        "      <td> 0.059640</td>\n",
        "      <td> 0.081286</td>\n",
        "      <td> 0.07183</td>\n",
        "      <td> 0.090909</td>\n",
        "    </tr>\n",
        "  </tbody>\n",
        "</table>\n",
        "<p>5 rows \u00d7 150 columns</p>\n",
        "</div>"
       ],
       "metadata": {},
       "output_type": "pyout",
       "prompt_number": 38,
       "text": [
        "    Var193   Var198 Var204                     Var207 Var211   Var212  \\\n",
        "0     RO12  LnrJJaC   WIr3  DHn_WUyBhW_whjA88g9bvA64_   L84s     CrNX   \n",
        "1     RO12  82ydmQ4   VILw                 me75fM6ugJ   L84s  NhsEn4L   \n",
        "2  AERks4l  fhk21Ss   VILw        7M47J5GA0pTYIFxg5uy   L84s  QsQAxv5   \n",
        "3     RO12  Gs977fS   Nbbb                    0MCPoln   L84s     CrNX   \n",
        "4     RO12  82ydmQ4   Nbbb                 me75fM6ugJ   L84s  NhsEn4L   \n",
        "\n",
        "    Var216   Var220   Var221   Var222   ...     \\\n",
        "0  y5FU_7t  BRDiujb  d0EEeJi  ncQn8b6   ...      \n",
        "1  mAja5EA  FonmS85     oslk  PC0a_vf   ...      \n",
        "2  11pJPFL  4UxGlow  QKW8DRm  catzS2D   ...      \n",
        "3  y5FewfI  OBFS5vk  d0EEeJi  fTRaxql   ...      \n",
        "4  mAjbk_S  FonmS85     oslk  PC0a_vf   ...      \n",
        "\n",
        "  Var51_IS_IMPUTED_churn_NUMERIZED Var202_IMPUTED_churn_NUMERIZED  \\\n",
        "0                         0.073393                       0.250000   \n",
        "1                         0.073393                       0.000000   \n",
        "2                         0.073393                       0.000000   \n",
        "3                         0.073393                       0.000000   \n",
        "4                         0.073393                       0.137931   \n",
        "\n",
        "  Var214_IMPUTED_churn_NUMERIZED Var199_IMPUTED_churn_NUMERIZED  \\\n",
        "0                       0.087009                       0.000000   \n",
        "1                       0.087009                       0.054545   \n",
        "2                       0.000000                       0.064935   \n",
        "3                       0.087009                       0.097561   \n",
        "4                       0.000000                       0.033101   \n",
        "\n",
        "  Var218_IMPUTED_churn_NUMERIZED Var219_IMPUTED_churn_NUMERIZED  \\\n",
        "0                       0.059772                       0.073171   \n",
        "1                       0.059772                       0.073171   \n",
        "2                       0.059772                       0.073171   \n",
        "3                       0.059772                       0.075743   \n",
        "4                       0.079680                       0.054264   \n",
        "\n",
        "  Var194_IMPUTED_churn_NUMERIZED Var197_IMPUTED_churn_NUMERIZED  \\\n",
        "0                       0.076183                       0.058824   \n",
        "1                       0.076183                       0.058824   \n",
        "2                       0.076183                       0.081286   \n",
        "3                       0.076183                       0.081286   \n",
        "4                       0.059640                       0.081286   \n",
        "\n",
        "  Var189_IS_IMPUTED_churn_NUMERIZED Var192_IMPUTED_churn_NUMERIZED  \n",
        "0                           0.07183                       0.090909  \n",
        "1                           0.07183                       0.090909  \n",
        "2                           0.07183                       0.090909  \n",
        "3                           0.07183                       0.090909  \n",
        "4                           0.07183                       0.090909  \n",
        "\n",
        "[5 rows x 150 columns]"
       ]
      }
     ],
     "prompt_number": 38
    },
    {
     "cell_type": "code",
     "collapsed": false,
     "input": [],
     "language": "python",
     "metadata": {},
     "outputs": []
    }
   ],
   "metadata": {}
  }
 ]
}