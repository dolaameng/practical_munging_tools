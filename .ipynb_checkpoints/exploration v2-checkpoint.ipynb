{
 "metadata": {
  "name": "",
  "signature": "sha256:fc0aefdf646d3d5091782ee81957a126caa8ddffaf7681db0feb2f366c146a3b"
 },
 "nbformat": 3,
 "nbformat_minor": 0,
 "worksheets": [
  {
   "cells": [
    {
     "cell_type": "code",
     "collapsed": false,
     "input": [
      "%load_ext autoreload\n",
      "%autoreload 2\n",
      "%matplotlib inline"
     ],
     "language": "python",
     "metadata": {},
     "outputs": [],
     "prompt_number": 1
    },
    {
     "cell_type": "code",
     "collapsed": false,
     "input": [
      "from munging import session\n",
      "\n",
      "\n",
      "import matplotlib.pyplot as plt\n",
      "import pandas as pd\n",
      "import numpy as np\n",
      "from scipy import stats"
     ],
     "language": "python",
     "metadata": {},
     "outputs": [],
     "prompt_number": 2
    },
    {
     "cell_type": "code",
     "collapsed": false,
     "input": [
      "## load data\n",
      "custdata = pd.read_table(\"data/orange_small_train.data.gz\", \n",
      "                         compression=\"gzip\", na_values=[\"NA\", \"\"], \n",
      "                         delimiter = \"\\t\", header = 0)\n",
      "churn = np.loadtxt(\"data/orange_small_train_churn.labels.txt\")\n",
      "custdata[\"Churn\"] = np.where(churn==1, \"churn\", \"nochurn\")\n",
      "custdata.head(n = 3)"
     ],
     "language": "python",
     "metadata": {},
     "outputs": [
      {
       "html": [
        "<div style=\"max-height:1000px;max-width:1500px;overflow:auto;\">\n",
        "<table border=\"1\" class=\"dataframe\">\n",
        "  <thead>\n",
        "    <tr style=\"text-align: right;\">\n",
        "      <th></th>\n",
        "      <th>Var1</th>\n",
        "      <th>Var2</th>\n",
        "      <th>Var3</th>\n",
        "      <th>Var4</th>\n",
        "      <th>Var5</th>\n",
        "      <th>Var6</th>\n",
        "      <th>Var7</th>\n",
        "      <th>Var8</th>\n",
        "      <th>Var9</th>\n",
        "      <th>Var10</th>\n",
        "      <th>...</th>\n",
        "      <th>Var222</th>\n",
        "      <th>Var223</th>\n",
        "      <th>Var224</th>\n",
        "      <th>Var225</th>\n",
        "      <th>Var226</th>\n",
        "      <th>Var227</th>\n",
        "      <th>Var228</th>\n",
        "      <th>Var229</th>\n",
        "      <th>Var230</th>\n",
        "      <th>Churn</th>\n",
        "    </tr>\n",
        "  </thead>\n",
        "  <tbody>\n",
        "    <tr>\n",
        "      <th>0</th>\n",
        "      <td>NaN</td>\n",
        "      <td>NaN</td>\n",
        "      <td>NaN</td>\n",
        "      <td>NaN</td>\n",
        "      <td>NaN</td>\n",
        "      <td> 1526</td>\n",
        "      <td> 7</td>\n",
        "      <td>NaN</td>\n",
        "      <td>NaN</td>\n",
        "      <td>NaN</td>\n",
        "      <td>...</td>\n",
        "      <td> fXVEsaq</td>\n",
        "      <td> jySVZNlOJy</td>\n",
        "      <td> NaN</td>\n",
        "      <td>  NaN</td>\n",
        "      <td> xb3V</td>\n",
        "      <td>    RAYp</td>\n",
        "      <td> F2FyR07IdsN7I</td>\n",
        "      <td>  NaN</td>\n",
        "      <td>NaN</td>\n",
        "      <td> nochurn</td>\n",
        "    </tr>\n",
        "    <tr>\n",
        "      <th>1</th>\n",
        "      <td>NaN</td>\n",
        "      <td>NaN</td>\n",
        "      <td>NaN</td>\n",
        "      <td>NaN</td>\n",
        "      <td>NaN</td>\n",
        "      <td>  525</td>\n",
        "      <td> 0</td>\n",
        "      <td>NaN</td>\n",
        "      <td>NaN</td>\n",
        "      <td>NaN</td>\n",
        "      <td>...</td>\n",
        "      <td> 2Kb5FSF</td>\n",
        "      <td> LM8l689qOp</td>\n",
        "      <td> NaN</td>\n",
        "      <td>  NaN</td>\n",
        "      <td> fKCe</td>\n",
        "      <td>    RAYp</td>\n",
        "      <td> F2FyR07IdsN7I</td>\n",
        "      <td>  NaN</td>\n",
        "      <td>NaN</td>\n",
        "      <td>   churn</td>\n",
        "    </tr>\n",
        "    <tr>\n",
        "      <th>2</th>\n",
        "      <td>NaN</td>\n",
        "      <td>NaN</td>\n",
        "      <td>NaN</td>\n",
        "      <td>NaN</td>\n",
        "      <td>NaN</td>\n",
        "      <td> 5236</td>\n",
        "      <td> 7</td>\n",
        "      <td>NaN</td>\n",
        "      <td>NaN</td>\n",
        "      <td>NaN</td>\n",
        "      <td>...</td>\n",
        "      <td> NKv4yOc</td>\n",
        "      <td> jySVZNlOJy</td>\n",
        "      <td> NaN</td>\n",
        "      <td> kG3k</td>\n",
        "      <td> Qu4f</td>\n",
        "      <td> 02N6s8f</td>\n",
        "      <td> ib5G6X1eUxUn6</td>\n",
        "      <td> am7c</td>\n",
        "      <td>NaN</td>\n",
        "      <td> nochurn</td>\n",
        "    </tr>\n",
        "  </tbody>\n",
        "</table>\n",
        "<p>3 rows \u00d7 231 columns</p>\n",
        "</div>"
       ],
       "metadata": {},
       "output_type": "pyout",
       "prompt_number": 3,
       "text": [
        "   Var1  Var2  Var3  Var4  Var5  Var6  Var7  Var8  Var9  Var10  ...    \\\n",
        "0   NaN   NaN   NaN   NaN   NaN  1526     7   NaN   NaN    NaN  ...     \n",
        "1   NaN   NaN   NaN   NaN   NaN   525     0   NaN   NaN    NaN  ...     \n",
        "2   NaN   NaN   NaN   NaN   NaN  5236     7   NaN   NaN    NaN  ...     \n",
        "\n",
        "    Var222      Var223  Var224  Var225  Var226   Var227         Var228  \\\n",
        "0  fXVEsaq  jySVZNlOJy     NaN     NaN    xb3V     RAYp  F2FyR07IdsN7I   \n",
        "1  2Kb5FSF  LM8l689qOp     NaN     NaN    fKCe     RAYp  F2FyR07IdsN7I   \n",
        "2  NKv4yOc  jySVZNlOJy     NaN    kG3k    Qu4f  02N6s8f  ib5G6X1eUxUn6   \n",
        "\n",
        "   Var229  Var230    Churn  \n",
        "0     NaN     NaN  nochurn  \n",
        "1     NaN     NaN    churn  \n",
        "2    am7c     NaN  nochurn  \n",
        "\n",
        "[3 rows x 231 columns]"
       ]
      }
     ],
     "prompt_number": 3
    },
    {
     "cell_type": "code",
     "collapsed": false,
     "input": [
      "custsession = session.Session(custdata, 'Churn')\n",
      "print custsession.get_parameters()"
     ],
     "language": "python",
     "metadata": {},
     "outputs": [
      {
       "output_type": "stream",
       "stream": "stdout",
       "text": [
        "{'SKEWNESS_THR': 20, 'FRAC_OF_NA_TO_IGNORE': 0.95, 'FRAC_OF_FEAT_TO_BE_NONINFORMATIVE': 0.95, 'MIN_NUM_VALUES_FOR_NUMERICAL': 5}\n"
       ]
      }
     ],
     "prompt_number": 193
    },
    {
     "cell_type": "code",
     "collapsed": false,
     "input": [
      "numerical_features = custsession.get_features_of(criterion=custsession.is_numerical_feature)\n",
      "categorical_features = custsession.get_features_of(criterion=custsession.is_categorical_feature)\n",
      "all_features = set(custdata.columns)\n",
      "all_features.difference(np.union1d(numerical_features, categorical_features))"
     ],
     "language": "python",
     "metadata": {},
     "outputs": [
      {
       "metadata": {},
       "output_type": "pyout",
       "prompt_number": 194,
       "text": [
        "{'Churn'}"
       ]
      }
     ],
     "prompt_number": 194
    },
    {
     "cell_type": "code",
     "collapsed": false,
     "input": [
      "## remove heavy missing value features\n",
      "na_features = custsession.get_features_of(criterion=custsession.is_na_feature)\n",
      "features_to_ignore = custsession.get_features_of(criterion=custsession.is_na_heavy)\n",
      "custsession.remove_features(features_to_ignore)\n",
      "print len(custsession.get_all_input_features())"
     ],
     "language": "python",
     "metadata": {},
     "outputs": [
      {
       "output_type": "stream",
       "stream": "stdout",
       "text": [
        "77\n"
       ]
      }
     ],
     "prompt_number": 195
    },
    {
     "cell_type": "code",
     "collapsed": false,
     "input": [
      "## impute missing value features \n",
      "feature_imputer = custsession.impute_features(auto_remove=True)\n",
      "print custsession.get_features_of(custsession.is_na_feature)"
     ],
     "language": "python",
     "metadata": {},
     "outputs": [
      {
       "output_type": "stream",
       "stream": "stdout",
       "text": [
        "[]\n"
       ]
      }
     ],
     "prompt_number": 196
    },
    {
     "cell_type": "code",
     "collapsed": false,
     "input": [
      "## remove non-informative (near-zero variance) feature\n",
      "noninformative_feats = custsession.get_features_of(custsession.is_noninformative_feature)\n",
      "custsession.remove_features(noninformative_feats)\n",
      "print custsession.get_features_of(custsession.is_noninformative_feature)"
     ],
     "language": "python",
     "metadata": {},
     "outputs": [
      {
       "output_type": "stream",
       "stream": "stdout",
       "text": [
        "[]\n"
       ]
      }
     ],
     "prompt_number": 197
    },
    {
     "cell_type": "code",
     "collapsed": false,
     "input": [
      "custsession.get_features_of(custsession.is_skewed_numerical_feature)"
     ],
     "language": "python",
     "metadata": {},
     "outputs": [
      {
       "metadata": {},
       "output_type": "pyout",
       "prompt_number": 199,
       "text": [
        "array(['Var73', 'Var13_IMPUTED', 'Var112_IMPUTED', 'Var85_IMPUTED',\n",
        "       'Var119_IMPUTED', 'Var83_IMPUTED', 'Var81_IMPUTED',\n",
        "       'Var123_IMPUTED', 'Var28_IMPUTED', 'Var24_IMPUTED', 'Var25_IMPUTED',\n",
        "       'Var21_IMPUTED', 'Var44_IMPUTED', 'Var65_IMPUTED', 'Var125_IMPUTED',\n",
        "       'Var7_IMPUTED', 'Var6_IMPUTED', 'Var133_IMPUTED', 'Var160_IMPUTED',\n",
        "       'Var22_IMPUTED', 'Var149_IMPUTED', 'Var143_IMPUTED',\n",
        "       'Var181_IMPUTED', 'Var76_IMPUTED', 'Var74_IMPUTED', 'Var72_IMPUTED',\n",
        "       'Var126_IMPUTED', 'Var94_IMPUTED', 'Var140_IMPUTED',\n",
        "       'Var163_IMPUTED', 'Var38_IMPUTED', 'Var109_IMPUTED',\n",
        "       'Var132_IMPUTED', 'Var144_IMPUTED', 'Var35_IMPUTED',\n",
        "       'Var51_IMPUTED', 'Var78_IMPUTED', 'Var173_IMPUTED',\n",
        "       'Var189_IMPUTED', 'Var134_IMPUTED'], \n",
        "      dtype='|S14')"
       ]
      }
     ],
     "prompt_number": 199
    },
    {
     "cell_type": "code",
     "collapsed": false,
     "input": [],
     "language": "python",
     "metadata": {},
     "outputs": []
    }
   ],
   "metadata": {}
  }
 ]
}