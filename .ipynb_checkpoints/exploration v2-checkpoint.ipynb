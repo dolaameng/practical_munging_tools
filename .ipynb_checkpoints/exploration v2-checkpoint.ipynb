{
 "metadata": {
  "name": "",
  "signature": "sha256:1cdf5d6bc1666380e378cc68a11c3c8e1a852244665e5a29201405ea4b2ee77e"
 },
 "nbformat": 3,
 "nbformat_minor": 0,
 "worksheets": [
  {
   "cells": [
    {
     "cell_type": "code",
     "collapsed": false,
     "input": [
      "%load_ext autoreload\n",
      "%autoreload 2\n",
      "%matplotlib inline"
     ],
     "language": "python",
     "metadata": {},
     "outputs": [],
     "prompt_number": 1
    },
    {
     "cell_type": "code",
     "collapsed": false,
     "input": [
      "from munging import session\n",
      "\n",
      "\n",
      "import matplotlib.pyplot as plt\n",
      "import pandas as pd\n",
      "import numpy as np\n",
      "from scipy import stats"
     ],
     "language": "python",
     "metadata": {},
     "outputs": [],
     "prompt_number": 2
    },
    {
     "cell_type": "code",
     "collapsed": false,
     "input": [
      "## load data\n",
      "custdata = pd.read_table(\"data/orange_small_train.data.gz\", \n",
      "                         compression=\"gzip\", na_values=[\"NA\", \"\"], \n",
      "                         delimiter = \"\\t\", header = 0)\n",
      "churn = np.loadtxt(\"data/orange_small_train_churn.labels.txt\")\n",
      "custdata[\"Churn\"] = np.where(churn==1, \"churn\", \"nochurn\")\n",
      "custdata.head(n = 3)"
     ],
     "language": "python",
     "metadata": {},
     "outputs": [
      {
       "html": [
        "<div style=\"max-height:1000px;max-width:1500px;overflow:auto;\">\n",
        "<table border=\"1\" class=\"dataframe\">\n",
        "  <thead>\n",
        "    <tr style=\"text-align: right;\">\n",
        "      <th></th>\n",
        "      <th>Var1</th>\n",
        "      <th>Var2</th>\n",
        "      <th>Var3</th>\n",
        "      <th>Var4</th>\n",
        "      <th>Var5</th>\n",
        "      <th>Var6</th>\n",
        "      <th>Var7</th>\n",
        "      <th>Var8</th>\n",
        "      <th>Var9</th>\n",
        "      <th>Var10</th>\n",
        "      <th>...</th>\n",
        "      <th>Var222</th>\n",
        "      <th>Var223</th>\n",
        "      <th>Var224</th>\n",
        "      <th>Var225</th>\n",
        "      <th>Var226</th>\n",
        "      <th>Var227</th>\n",
        "      <th>Var228</th>\n",
        "      <th>Var229</th>\n",
        "      <th>Var230</th>\n",
        "      <th>Churn</th>\n",
        "    </tr>\n",
        "  </thead>\n",
        "  <tbody>\n",
        "    <tr>\n",
        "      <th>0</th>\n",
        "      <td>NaN</td>\n",
        "      <td>NaN</td>\n",
        "      <td>NaN</td>\n",
        "      <td>NaN</td>\n",
        "      <td>NaN</td>\n",
        "      <td> 1526</td>\n",
        "      <td> 7</td>\n",
        "      <td>NaN</td>\n",
        "      <td>NaN</td>\n",
        "      <td>NaN</td>\n",
        "      <td>...</td>\n",
        "      <td> fXVEsaq</td>\n",
        "      <td> jySVZNlOJy</td>\n",
        "      <td> NaN</td>\n",
        "      <td>  NaN</td>\n",
        "      <td> xb3V</td>\n",
        "      <td>    RAYp</td>\n",
        "      <td> F2FyR07IdsN7I</td>\n",
        "      <td>  NaN</td>\n",
        "      <td>NaN</td>\n",
        "      <td> nochurn</td>\n",
        "    </tr>\n",
        "    <tr>\n",
        "      <th>1</th>\n",
        "      <td>NaN</td>\n",
        "      <td>NaN</td>\n",
        "      <td>NaN</td>\n",
        "      <td>NaN</td>\n",
        "      <td>NaN</td>\n",
        "      <td>  525</td>\n",
        "      <td> 0</td>\n",
        "      <td>NaN</td>\n",
        "      <td>NaN</td>\n",
        "      <td>NaN</td>\n",
        "      <td>...</td>\n",
        "      <td> 2Kb5FSF</td>\n",
        "      <td> LM8l689qOp</td>\n",
        "      <td> NaN</td>\n",
        "      <td>  NaN</td>\n",
        "      <td> fKCe</td>\n",
        "      <td>    RAYp</td>\n",
        "      <td> F2FyR07IdsN7I</td>\n",
        "      <td>  NaN</td>\n",
        "      <td>NaN</td>\n",
        "      <td>   churn</td>\n",
        "    </tr>\n",
        "    <tr>\n",
        "      <th>2</th>\n",
        "      <td>NaN</td>\n",
        "      <td>NaN</td>\n",
        "      <td>NaN</td>\n",
        "      <td>NaN</td>\n",
        "      <td>NaN</td>\n",
        "      <td> 5236</td>\n",
        "      <td> 7</td>\n",
        "      <td>NaN</td>\n",
        "      <td>NaN</td>\n",
        "      <td>NaN</td>\n",
        "      <td>...</td>\n",
        "      <td> NKv4yOc</td>\n",
        "      <td> jySVZNlOJy</td>\n",
        "      <td> NaN</td>\n",
        "      <td> kG3k</td>\n",
        "      <td> Qu4f</td>\n",
        "      <td> 02N6s8f</td>\n",
        "      <td> ib5G6X1eUxUn6</td>\n",
        "      <td> am7c</td>\n",
        "      <td>NaN</td>\n",
        "      <td> nochurn</td>\n",
        "    </tr>\n",
        "  </tbody>\n",
        "</table>\n",
        "<p>3 rows \u00d7 231 columns</p>\n",
        "</div>"
       ],
       "metadata": {},
       "output_type": "pyout",
       "prompt_number": 3,
       "text": [
        "   Var1  Var2  Var3  Var4  Var5  Var6  Var7  Var8  Var9  Var10  ...    \\\n",
        "0   NaN   NaN   NaN   NaN   NaN  1526     7   NaN   NaN    NaN  ...     \n",
        "1   NaN   NaN   NaN   NaN   NaN   525     0   NaN   NaN    NaN  ...     \n",
        "2   NaN   NaN   NaN   NaN   NaN  5236     7   NaN   NaN    NaN  ...     \n",
        "\n",
        "    Var222      Var223  Var224  Var225  Var226   Var227         Var228  \\\n",
        "0  fXVEsaq  jySVZNlOJy     NaN     NaN    xb3V     RAYp  F2FyR07IdsN7I   \n",
        "1  2Kb5FSF  LM8l689qOp     NaN     NaN    fKCe     RAYp  F2FyR07IdsN7I   \n",
        "2  NKv4yOc  jySVZNlOJy     NaN    kG3k    Qu4f  02N6s8f  ib5G6X1eUxUn6   \n",
        "\n",
        "   Var229  Var230    Churn  \n",
        "0     NaN     NaN  nochurn  \n",
        "1     NaN     NaN    churn  \n",
        "2    am7c     NaN  nochurn  \n",
        "\n",
        "[3 rows x 231 columns]"
       ]
      }
     ],
     "prompt_number": 3
    },
    {
     "cell_type": "code",
     "collapsed": false,
     "input": [
      "custsession = session.Session(custdata, 'Churn')\n",
      "transformers = []\n",
      "print custsession.get_parameters()"
     ],
     "language": "python",
     "metadata": {},
     "outputs": [
      {
       "output_type": "stream",
       "stream": "stdout",
       "text": [
        "{'SKEWNESS_THR': 20, 'FRAC_OF_NA_TO_IGNORE': 0.95, 'FRAC_OF_FEAT_TO_BE_NONINFORMATIVE': 0.95, 'REDUNDANT_FEAT_CORR_THR': 0.95, 'MIN_NUM_VALUES_FOR_NUMERICAL': 5}\n"
       ]
      }
     ],
     "prompt_number": 4
    },
    {
     "cell_type": "code",
     "collapsed": false,
     "input": [
      "numerical_features = custsession.get_features_of(criterion=custsession.is_numerical_feature)\n",
      "categorical_features = custsession.get_features_of(criterion=custsession.is_categorical_feature)\n",
      "all_features = set(custdata.columns)\n",
      "all_features.difference(np.union1d(numerical_features, categorical_features))"
     ],
     "language": "python",
     "metadata": {},
     "outputs": [
      {
       "metadata": {},
       "output_type": "pyout",
       "prompt_number": 5,
       "text": [
        "{'Churn'}"
       ]
      }
     ],
     "prompt_number": 5
    },
    {
     "cell_type": "code",
     "collapsed": false,
     "input": [
      "## remove heavy missing value features\n",
      "na_features = custsession.get_features_of(criterion=custsession.is_na_feature)\n",
      "features_to_ignore = custsession.get_features_of(criterion=custsession.is_na_heavy)\n",
      "custsession.remove_features(features_to_ignore)\n",
      "print len(custsession.get_all_input_features())"
     ],
     "language": "python",
     "metadata": {},
     "outputs": [
      {
       "output_type": "stream",
       "stream": "stdout",
       "text": [
        "77\n"
       ]
      }
     ],
     "prompt_number": 6
    },
    {
     "cell_type": "code",
     "collapsed": false,
     "input": [
      "custsession.get_features_of(custsession.is_na_feature)"
     ],
     "language": "python",
     "metadata": {},
     "outputs": [
      {
       "metadata": {},
       "output_type": "pyout",
       "prompt_number": 7,
       "text": [
        "array(['Var6', 'Var7', 'Var13', 'Var21', 'Var22', 'Var24', 'Var25',\n",
        "       'Var28', 'Var35', 'Var38', 'Var44', 'Var51', 'Var65', 'Var72',\n",
        "       'Var74', 'Var76', 'Var78', 'Var81', 'Var83', 'Var85', 'Var94',\n",
        "       'Var109', 'Var112', 'Var119', 'Var123', 'Var125', 'Var126',\n",
        "       'Var132', 'Var133', 'Var134', 'Var140', 'Var143', 'Var144',\n",
        "       'Var149', 'Var153', 'Var160', 'Var163', 'Var173', 'Var181',\n",
        "       'Var189', 'Var192', 'Var194', 'Var197', 'Var199', 'Var200',\n",
        "       'Var201', 'Var202', 'Var203', 'Var205', 'Var206', 'Var208',\n",
        "       'Var214', 'Var217', 'Var218', 'Var219', 'Var223', 'Var225', 'Var229'], \n",
        "      dtype='|S6')"
       ]
      }
     ],
     "prompt_number": 7
    },
    {
     "cell_type": "code",
     "collapsed": false,
     "input": [
      "## impute missing value features \n",
      "feature_imputer = custsession.impute_features(auto_remove=True)\n",
      "transformers.append(feature_imputer)\n",
      "print custsession.get_features_of(custsession.is_na_feature)"
     ],
     "language": "python",
     "metadata": {},
     "outputs": [
      {
       "output_type": "stream",
       "stream": "stdout",
       "text": [
        "[]\n"
       ]
      }
     ],
     "prompt_number": 8
    },
    {
     "cell_type": "code",
     "collapsed": false,
     "input": [
      "## remove non-informative (near-zero variance) feature\n",
      "noninformative_feats = custsession.get_features_of(custsession.is_noninformative_feature)\n",
      "custsession.remove_features(noninformative_feats)\n",
      "print custsession.get_features_of(custsession.is_noninformative_feature)"
     ],
     "language": "python",
     "metadata": {},
     "outputs": [
      {
       "output_type": "stream",
       "stream": "stdout",
       "text": [
        "[]\n"
       ]
      }
     ],
     "prompt_number": 9
    },
    {
     "cell_type": "code",
     "collapsed": false,
     "input": [
      "## evenize skewed features\n",
      "custsession.get_features_of(custsession.is_skewed_numerical_feature)\n",
      "feature_evenizer = custsession.evenize_skew_features(auto_remove=True)\n",
      "transformers.append(feature_evenizer)\n",
      "custsession.get_features_of(custsession.is_skewed_numerical_feature)"
     ],
     "language": "python",
     "metadata": {},
     "outputs": [
      {
       "metadata": {},
       "output_type": "pyout",
       "prompt_number": 10,
       "text": [
        "array(['Var65_IMPUTED_LOG', 'Var78_IMPUTED_LOG1', 'Var181_IMPUTED_LOG1',\n",
        "       'Var173_IMPUTED_LOG1', 'Var143_IMPUTED_LOG1', 'Var72_IMPUTED_LOG',\n",
        "       'Var35_IMPUTED_LOG1', 'Var132_IMPUTED_LOG1', 'Var44_IMPUTED_LOG1'], \n",
        "      dtype='|S19')"
       ]
      }
     ],
     "prompt_number": 10
    },
    {
     "cell_type": "code",
     "collapsed": false,
     "input": [
      "## whiten features\n",
      "feature_whitener = custsession.whiten_features(auto_remove=True)\n",
      "transformers.append(feature_whitener)\n",
      "for f in custsession.get_features_of(custsession.is_numerical_feature):\n",
      "    assert np.isclose(custsession.data[f].mean(), 0, rtol=1e-1, atol = 1e-1) \n",
      "    assert np.isclose(custsession.data[f].std(), 1, rtol=1e-1, atol = 1e-1)"
     ],
     "language": "python",
     "metadata": {},
     "outputs": [],
     "prompt_number": 11
    },
    {
     "cell_type": "code",
     "collapsed": false,
     "input": [
      "## find redundant features \n",
      "custsession.find_redundant_features()"
     ],
     "language": "python",
     "metadata": {},
     "outputs": [
      {
       "metadata": {},
       "output_type": "pyout",
       "prompt_number": 12,
       "text": [
        "[]"
       ]
      }
     ],
     "prompt_number": 12
    },
    {
     "cell_type": "code",
     "collapsed": false,
     "input": [
      "## numerize categorical features\n",
      "custsession.get_features_of(custsession.is_categorical_feature)"
     ],
     "language": "python",
     "metadata": {},
     "outputs": [
      {
       "metadata": {},
       "output_type": "pyout",
       "prompt_number": 13,
       "text": [
        "array(['Var193', 'Var198', 'Var204', 'Var207', 'Var211', 'Var212',\n",
        "       'Var216', 'Var220', 'Var221', 'Var222', 'Var226', 'Var227',\n",
        "       'Var228', 'Var13_IS_IMPUTED', 'Var112_IS_IMPUTED',\n",
        "       'Var153_IS_IMPUTED', 'Var85_IS_IMPUTED', 'Var119_IS_IMPUTED',\n",
        "       'Var83_IS_IMPUTED', 'Var81_IS_IMPUTED', 'Var208_IMPUTED',\n",
        "       'Var123_IS_IMPUTED', 'Var28_IS_IMPUTED', 'Var24_IS_IMPUTED',\n",
        "       'Var25_IS_IMPUTED', 'Var21_IS_IMPUTED', 'Var44_IS_IMPUTED',\n",
        "       'Var65_IS_IMPUTED', 'Var125_IS_IMPUTED', 'Var7_IS_IMPUTED',\n",
        "       'Var6_IS_IMPUTED', 'Var223_IMPUTED', 'Var229_IMPUTED',\n",
        "       'Var133_IS_IMPUTED', 'Var160_IS_IMPUTED', 'Var22_IS_IMPUTED',\n",
        "       'Var149_IS_IMPUTED', 'Var143_IS_IMPUTED', 'Var205_IMPUTED',\n",
        "       'Var206_IMPUTED', 'Var201_IMPUTED', 'Var200_IMPUTED',\n",
        "       'Var203_IMPUTED', 'Var181_IS_IMPUTED', 'Var76_IS_IMPUTED',\n",
        "       'Var74_IS_IMPUTED', 'Var72_IS_IMPUTED', 'Var126_IS_IMPUTED',\n",
        "       'Var94_IS_IMPUTED', 'Var140_IS_IMPUTED', 'Var163_IS_IMPUTED',\n",
        "       'Var225_IMPUTED', 'Var38_IS_IMPUTED', 'Var109_IS_IMPUTED',\n",
        "       'Var132_IS_IMPUTED', 'Var144_IS_IMPUTED', 'Var35_IS_IMPUTED',\n",
        "       'Var217_IMPUTED', 'Var51_IS_IMPUTED', 'Var78_IS_IMPUTED',\n",
        "       'Var202_IMPUTED', 'Var214_IMPUTED', 'Var173_IS_IMPUTED',\n",
        "       'Var199_IMPUTED', 'Var218_IMPUTED', 'Var219_IMPUTED',\n",
        "       'Var194_IMPUTED', 'Var197_IMPUTED', 'Var189_IS_IMPUTED',\n",
        "       'Var134_IS_IMPUTED', 'Var192_IMPUTED'], \n",
        "      dtype='|S17')"
       ]
      }
     ],
     "prompt_number": 13
    },
    {
     "cell_type": "code",
     "collapsed": false,
     "input": [
      "custsession._get_crossvalue_table([\"Var221\", \"Var211\"], [\"Churn\"])"
     ],
     "language": "python",
     "metadata": {},
     "outputs": [
      {
       "html": [
        "<div style=\"max-height:1000px;max-width:1500px;overflow:auto;\">\n",
        "<table border=\"1\" class=\"dataframe\">\n",
        "  <thead>\n",
        "    <tr style=\"text-align: right;\">\n",
        "      <th></th>\n",
        "      <th></th>\n",
        "      <th>train_churn</th>\n",
        "      <th>validation_churn</th>\n",
        "      <th>overall_churn</th>\n",
        "    </tr>\n",
        "  </thead>\n",
        "  <tbody>\n",
        "    <tr>\n",
        "      <th rowspan=\"2\" valign=\"top\">z4pH</th>\n",
        "      <th>L84s</th>\n",
        "      <td> 0.102804</td>\n",
        "      <td> 0.093023</td>\n",
        "      <td> 0.100000</td>\n",
        "    </tr>\n",
        "    <tr>\n",
        "      <th>Mtgm</th>\n",
        "      <td> 0.097561</td>\n",
        "      <td> 0.030303</td>\n",
        "      <td> 0.078261</td>\n",
        "    </tr>\n",
        "    <tr>\n",
        "      <th>oslk</th>\n",
        "      <th>L84s</th>\n",
        "      <td> 0.083407</td>\n",
        "      <td> 0.087677</td>\n",
        "      <td> 0.084687</td>\n",
        "    </tr>\n",
        "    <tr>\n",
        "      <th>Al6ZaUT</th>\n",
        "      <th>L84s</th>\n",
        "      <td> 0.074227</td>\n",
        "      <td> 0.079909</td>\n",
        "      <td> 0.075994</td>\n",
        "    </tr>\n",
        "    <tr>\n",
        "      <th>All</th>\n",
        "      <th></th>\n",
        "      <td> 0.073343</td>\n",
        "      <td> 0.073667</td>\n",
        "      <td> 0.073440</td>\n",
        "    </tr>\n",
        "    <tr>\n",
        "      <th>zCkv</th>\n",
        "      <th>L84s</th>\n",
        "      <td> 0.063251</td>\n",
        "      <td> 0.050752</td>\n",
        "      <td> 0.059517</td>\n",
        "    </tr>\n",
        "    <tr>\n",
        "      <th>oslk</th>\n",
        "      <th>Mtgm</th>\n",
        "      <td> 0.063025</td>\n",
        "      <td> 0.060128</td>\n",
        "      <td> 0.062156</td>\n",
        "    </tr>\n",
        "    <tr>\n",
        "      <th>Al6ZaUT</th>\n",
        "      <th>Mtgm</th>\n",
        "      <td> 0.060109</td>\n",
        "      <td> 0.028169</td>\n",
        "      <td> 0.051181</td>\n",
        "    </tr>\n",
        "    <tr>\n",
        "      <th>d0EEeJi</th>\n",
        "      <th>L84s</th>\n",
        "      <td> 0.052882</td>\n",
        "      <td> 0.052430</td>\n",
        "      <td> 0.052750</td>\n",
        "    </tr>\n",
        "    <tr>\n",
        "      <th rowspan=\"2\" valign=\"top\">QKW8DRm</th>\n",
        "      <th>L84s</th>\n",
        "      <td> 0.042857</td>\n",
        "      <td> 0.043379</td>\n",
        "      <td> 0.043018</td>\n",
        "    </tr>\n",
        "    <tr>\n",
        "      <th>Mtgm</th>\n",
        "      <td> 0.039548</td>\n",
        "      <td> 0.043478</td>\n",
        "      <td> 0.040650</td>\n",
        "    </tr>\n",
        "    <tr>\n",
        "      <th>zCkv</th>\n",
        "      <th>Mtgm</th>\n",
        "      <td> 0.037997</td>\n",
        "      <td> 0.028881</td>\n",
        "      <td> 0.035047</td>\n",
        "    </tr>\n",
        "    <tr>\n",
        "      <th>JIiEFBU</th>\n",
        "      <th>L84s</th>\n",
        "      <td> 0.036145</td>\n",
        "      <td> 0.000000</td>\n",
        "      <td> 0.025641</td>\n",
        "    </tr>\n",
        "    <tr>\n",
        "      <th>d0EEeJi</th>\n",
        "      <th>Mtgm</th>\n",
        "      <td> 0.014706</td>\n",
        "      <td> 0.026087</td>\n",
        "      <td> 0.018088</td>\n",
        "    </tr>\n",
        "    <tr>\n",
        "      <th>JIiEFBU</th>\n",
        "      <th>Mtgm</th>\n",
        "      <td> 0.000000</td>\n",
        "      <td> 0.000000</td>\n",
        "      <td> 0.000000</td>\n",
        "    </tr>\n",
        "  </tbody>\n",
        "</table>\n",
        "</div>"
       ],
       "metadata": {},
       "output_type": "pyout",
       "prompt_number": 18,
       "text": [
        "              train_churn  validation_churn  overall_churn\n",
        "z4pH    L84s     0.102804          0.093023       0.100000\n",
        "        Mtgm     0.097561          0.030303       0.078261\n",
        "oslk    L84s     0.083407          0.087677       0.084687\n",
        "Al6ZaUT L84s     0.074227          0.079909       0.075994\n",
        "All              0.073343          0.073667       0.073440\n",
        "zCkv    L84s     0.063251          0.050752       0.059517\n",
        "oslk    Mtgm     0.063025          0.060128       0.062156\n",
        "Al6ZaUT Mtgm     0.060109          0.028169       0.051181\n",
        "d0EEeJi L84s     0.052882          0.052430       0.052750\n",
        "QKW8DRm L84s     0.042857          0.043379       0.043018\n",
        "        Mtgm     0.039548          0.043478       0.040650\n",
        "zCkv    Mtgm     0.037997          0.028881       0.035047\n",
        "JIiEFBU L84s     0.036145          0.000000       0.025641\n",
        "d0EEeJi Mtgm     0.014706          0.026087       0.018088\n",
        "JIiEFBU Mtgm     0.000000          0.000000       0.000000"
       ]
      }
     ],
     "prompt_number": 18
    },
    {
     "cell_type": "code",
     "collapsed": false,
     "input": [
      "t = pd.crosstab(columns = custdata.Var221, index = custdata.Churn, margins = True, dropna = False)\n",
      "t = t * 1. / t.iloc[-1, :]\n",
      "t"
     ],
     "language": "python",
     "metadata": {},
     "outputs": [
      {
       "html": [
        "<div style=\"max-height:1000px;max-width:1500px;overflow:auto;\">\n",
        "<table border=\"1\" class=\"dataframe\">\n",
        "  <thead>\n",
        "    <tr style=\"text-align: right;\">\n",
        "      <th></th>\n",
        "      <th>Al6ZaUT</th>\n",
        "      <th>JIiEFBU</th>\n",
        "      <th>QKW8DRm</th>\n",
        "      <th>d0EEeJi</th>\n",
        "      <th>oslk</th>\n",
        "      <th>z4pH</th>\n",
        "      <th>zCkv</th>\n",
        "      <th>All</th>\n",
        "    </tr>\n",
        "    <tr>\n",
        "      <th>Churn</th>\n",
        "      <th></th>\n",
        "      <th></th>\n",
        "      <th></th>\n",
        "      <th></th>\n",
        "      <th></th>\n",
        "      <th></th>\n",
        "      <th></th>\n",
        "      <th></th>\n",
        "    </tr>\n",
        "  </thead>\n",
        "  <tbody>\n",
        "    <tr>\n",
        "      <th>churn</th>\n",
        "      <td> 0.072202</td>\n",
        "      <td> 0.021277</td>\n",
        "      <td> 0.042668</td>\n",
        "      <td> 0.048366</td>\n",
        "      <td> 0.079927</td>\n",
        "      <td> 0.090566</td>\n",
        "      <td> 0.056138</td>\n",
        "      <td> 0.07344</td>\n",
        "    </tr>\n",
        "    <tr>\n",
        "      <th>nochurn</th>\n",
        "      <td> 0.927798</td>\n",
        "      <td> 0.978723</td>\n",
        "      <td> 0.957332</td>\n",
        "      <td> 0.951634</td>\n",
        "      <td> 0.920073</td>\n",
        "      <td> 0.909434</td>\n",
        "      <td> 0.943862</td>\n",
        "      <td> 0.92656</td>\n",
        "    </tr>\n",
        "    <tr>\n",
        "      <th>All</th>\n",
        "      <td> 1.000000</td>\n",
        "      <td> 1.000000</td>\n",
        "      <td> 1.000000</td>\n",
        "      <td> 1.000000</td>\n",
        "      <td> 1.000000</td>\n",
        "      <td> 1.000000</td>\n",
        "      <td> 1.000000</td>\n",
        "      <td> 1.00000</td>\n",
        "    </tr>\n",
        "  </tbody>\n",
        "</table>\n",
        "</div>"
       ],
       "metadata": {},
       "output_type": "pyout",
       "prompt_number": 24,
       "text": [
        "          Al6ZaUT   JIiEFBU   QKW8DRm   d0EEeJi      oslk      z4pH      zCkv  \\\n",
        "Churn                                                                           \n",
        "churn    0.072202  0.021277  0.042668  0.048366  0.079927  0.090566  0.056138   \n",
        "nochurn  0.927798  0.978723  0.957332  0.951634  0.920073  0.909434  0.943862   \n",
        "All      1.000000  1.000000  1.000000  1.000000  1.000000  1.000000  1.000000   \n",
        "\n",
        "             All  \n",
        "Churn             \n",
        "churn    0.07344  \n",
        "nochurn  0.92656  \n",
        "All      1.00000  "
       ]
      }
     ],
     "prompt_number": 24
    },
    {
     "cell_type": "code",
     "collapsed": false,
     "input": [
      "s = t.iloc[:-2, :].T\n",
      "s.rename(columns = {c: c+\"!!\" for c in s.columns})"
     ],
     "language": "python",
     "metadata": {},
     "outputs": [
      {
       "html": [
        "<div style=\"max-height:1000px;max-width:1500px;overflow:auto;\">\n",
        "<table border=\"1\" class=\"dataframe\">\n",
        "  <thead>\n",
        "    <tr style=\"text-align: right;\">\n",
        "      <th>Churn</th>\n",
        "      <th>churn!!</th>\n",
        "    </tr>\n",
        "  </thead>\n",
        "  <tbody>\n",
        "    <tr>\n",
        "      <th>Al6ZaUT</th>\n",
        "      <td> 0.072202</td>\n",
        "    </tr>\n",
        "    <tr>\n",
        "      <th>JIiEFBU</th>\n",
        "      <td> 0.021277</td>\n",
        "    </tr>\n",
        "    <tr>\n",
        "      <th>QKW8DRm</th>\n",
        "      <td> 0.042668</td>\n",
        "    </tr>\n",
        "    <tr>\n",
        "      <th>d0EEeJi</th>\n",
        "      <td> 0.048366</td>\n",
        "    </tr>\n",
        "    <tr>\n",
        "      <th>oslk</th>\n",
        "      <td> 0.079927</td>\n",
        "    </tr>\n",
        "    <tr>\n",
        "      <th>z4pH</th>\n",
        "      <td> 0.090566</td>\n",
        "    </tr>\n",
        "    <tr>\n",
        "      <th>zCkv</th>\n",
        "      <td> 0.056138</td>\n",
        "    </tr>\n",
        "    <tr>\n",
        "      <th>All</th>\n",
        "      <td> 0.073440</td>\n",
        "    </tr>\n",
        "  </tbody>\n",
        "</table>\n",
        "</div>"
       ],
       "metadata": {},
       "output_type": "pyout",
       "prompt_number": 34,
       "text": [
        "Churn     churn!!\n",
        "Al6ZaUT  0.072202\n",
        "JIiEFBU  0.021277\n",
        "QKW8DRm  0.042668\n",
        "d0EEeJi  0.048366\n",
        "oslk     0.079927\n",
        "z4pH     0.090566\n",
        "zCkv     0.056138\n",
        "All      0.073440"
       ]
      }
     ],
     "prompt_number": 34
    },
    {
     "cell_type": "code",
     "collapsed": false,
     "input": [
      "s.get_value(index = \"JIiEFBU\", col=\"churn!!\")"
     ],
     "language": "python",
     "metadata": {},
     "outputs": [
      {
       "ename": "KeyError",
       "evalue": "'churn!!'",
       "output_type": "pyerr",
       "traceback": [
        "\u001b[1;31m---------------------------------------------------------------------------\u001b[0m\n\u001b[1;31mKeyError\u001b[0m                                  Traceback (most recent call last)",
        "\u001b[1;32m<ipython-input-40-1603bffacfa5>\u001b[0m in \u001b[0;36m<module>\u001b[1;34m()\u001b[0m\n\u001b[1;32m----> 1\u001b[1;33m \u001b[0ms\u001b[0m\u001b[1;33m.\u001b[0m\u001b[0mget_value\u001b[0m\u001b[1;33m(\u001b[0m\u001b[0mindex\u001b[0m \u001b[1;33m=\u001b[0m \u001b[1;34m\"JIiEFBU\"\u001b[0m\u001b[1;33m,\u001b[0m \u001b[0mcol\u001b[0m\u001b[1;33m=\u001b[0m\u001b[1;34m\"churn!!\"\u001b[0m\u001b[1;33m)\u001b[0m\u001b[1;33m\u001b[0m\u001b[0m\n\u001b[0m",
        "\u001b[1;32m/usr/local/lib/python2.7/dist-packages/pandas/core/frame.pyc\u001b[0m in \u001b[0;36mget_value\u001b[1;34m(self, index, col, takeable)\u001b[0m\n\u001b[0;32m   1538\u001b[0m             \u001b[1;32mreturn\u001b[0m \u001b[0mseries\u001b[0m\u001b[1;33m.\u001b[0m\u001b[0mvalues\u001b[0m\u001b[1;33m[\u001b[0m\u001b[0mindex\u001b[0m\u001b[1;33m]\u001b[0m\u001b[1;33m\u001b[0m\u001b[0m\n\u001b[0;32m   1539\u001b[0m \u001b[1;33m\u001b[0m\u001b[0m\n\u001b[1;32m-> 1540\u001b[1;33m         \u001b[0mseries\u001b[0m \u001b[1;33m=\u001b[0m \u001b[0mself\u001b[0m\u001b[1;33m.\u001b[0m\u001b[0m_get_item_cache\u001b[0m\u001b[1;33m(\u001b[0m\u001b[0mcol\u001b[0m\u001b[1;33m)\u001b[0m\u001b[1;33m\u001b[0m\u001b[0m\n\u001b[0m\u001b[0;32m   1541\u001b[0m         \u001b[0mengine\u001b[0m \u001b[1;33m=\u001b[0m \u001b[0mself\u001b[0m\u001b[1;33m.\u001b[0m\u001b[0mindex\u001b[0m\u001b[1;33m.\u001b[0m\u001b[0m_engine\u001b[0m\u001b[1;33m\u001b[0m\u001b[0m\n\u001b[0;32m   1542\u001b[0m         \u001b[1;32mreturn\u001b[0m \u001b[0mengine\u001b[0m\u001b[1;33m.\u001b[0m\u001b[0mget_value\u001b[0m\u001b[1;33m(\u001b[0m\u001b[0mseries\u001b[0m\u001b[1;33m.\u001b[0m\u001b[0mvalues\u001b[0m\u001b[1;33m,\u001b[0m \u001b[0mindex\u001b[0m\u001b[1;33m)\u001b[0m\u001b[1;33m\u001b[0m\u001b[0m\n",
        "\u001b[1;32m/usr/local/lib/python2.7/dist-packages/pandas/core/generic.pyc\u001b[0m in \u001b[0;36m_get_item_cache\u001b[1;34m(self, item)\u001b[0m\n\u001b[0;32m   1050\u001b[0m         \u001b[0mres\u001b[0m \u001b[1;33m=\u001b[0m \u001b[0mcache\u001b[0m\u001b[1;33m.\u001b[0m\u001b[0mget\u001b[0m\u001b[1;33m(\u001b[0m\u001b[0mitem\u001b[0m\u001b[1;33m)\u001b[0m\u001b[1;33m\u001b[0m\u001b[0m\n\u001b[0;32m   1051\u001b[0m         \u001b[1;32mif\u001b[0m \u001b[0mres\u001b[0m \u001b[1;32mis\u001b[0m \u001b[0mNone\u001b[0m\u001b[1;33m:\u001b[0m\u001b[1;33m\u001b[0m\u001b[0m\n\u001b[1;32m-> 1052\u001b[1;33m             \u001b[0mvalues\u001b[0m \u001b[1;33m=\u001b[0m \u001b[0mself\u001b[0m\u001b[1;33m.\u001b[0m\u001b[0m_data\u001b[0m\u001b[1;33m.\u001b[0m\u001b[0mget\u001b[0m\u001b[1;33m(\u001b[0m\u001b[0mitem\u001b[0m\u001b[1;33m)\u001b[0m\u001b[1;33m\u001b[0m\u001b[0m\n\u001b[0m\u001b[0;32m   1053\u001b[0m             \u001b[0mres\u001b[0m \u001b[1;33m=\u001b[0m \u001b[0mself\u001b[0m\u001b[1;33m.\u001b[0m\u001b[0m_box_item_values\u001b[0m\u001b[1;33m(\u001b[0m\u001b[0mitem\u001b[0m\u001b[1;33m,\u001b[0m \u001b[0mvalues\u001b[0m\u001b[1;33m)\u001b[0m\u001b[1;33m\u001b[0m\u001b[0m\n\u001b[0;32m   1054\u001b[0m             \u001b[0mcache\u001b[0m\u001b[1;33m[\u001b[0m\u001b[0mitem\u001b[0m\u001b[1;33m]\u001b[0m \u001b[1;33m=\u001b[0m \u001b[0mres\u001b[0m\u001b[1;33m\u001b[0m\u001b[0m\n",
        "\u001b[1;32m/usr/local/lib/python2.7/dist-packages/pandas/core/internals.pyc\u001b[0m in \u001b[0;36mget\u001b[1;34m(self, item, fastpath)\u001b[0m\n\u001b[0;32m   2563\u001b[0m \u001b[1;33m\u001b[0m\u001b[0m\n\u001b[0;32m   2564\u001b[0m             \u001b[1;32mif\u001b[0m \u001b[1;32mnot\u001b[0m \u001b[0misnull\u001b[0m\u001b[1;33m(\u001b[0m\u001b[0mitem\u001b[0m\u001b[1;33m)\u001b[0m\u001b[1;33m:\u001b[0m\u001b[1;33m\u001b[0m\u001b[0m\n\u001b[1;32m-> 2565\u001b[1;33m                 \u001b[0mloc\u001b[0m \u001b[1;33m=\u001b[0m \u001b[0mself\u001b[0m\u001b[1;33m.\u001b[0m\u001b[0mitems\u001b[0m\u001b[1;33m.\u001b[0m\u001b[0mget_loc\u001b[0m\u001b[1;33m(\u001b[0m\u001b[0mitem\u001b[0m\u001b[1;33m)\u001b[0m\u001b[1;33m\u001b[0m\u001b[0m\n\u001b[0m\u001b[0;32m   2566\u001b[0m             \u001b[1;32melse\u001b[0m\u001b[1;33m:\u001b[0m\u001b[1;33m\u001b[0m\u001b[0m\n\u001b[0;32m   2567\u001b[0m                 \u001b[0mindexer\u001b[0m \u001b[1;33m=\u001b[0m \u001b[0mnp\u001b[0m\u001b[1;33m.\u001b[0m\u001b[0marange\u001b[0m\u001b[1;33m(\u001b[0m\u001b[0mlen\u001b[0m\u001b[1;33m(\u001b[0m\u001b[0mself\u001b[0m\u001b[1;33m.\u001b[0m\u001b[0mitems\u001b[0m\u001b[1;33m)\u001b[0m\u001b[1;33m)\u001b[0m\u001b[1;33m[\u001b[0m\u001b[0misnull\u001b[0m\u001b[1;33m(\u001b[0m\u001b[0mself\u001b[0m\u001b[1;33m.\u001b[0m\u001b[0mitems\u001b[0m\u001b[1;33m)\u001b[0m\u001b[1;33m]\u001b[0m\u001b[1;33m\u001b[0m\u001b[0m\n",
        "\u001b[1;32m/usr/local/lib/python2.7/dist-packages/pandas/core/index.pyc\u001b[0m in \u001b[0;36mget_loc\u001b[1;34m(self, key)\u001b[0m\n\u001b[0;32m   1179\u001b[0m         \u001b[0mloc\u001b[0m \u001b[1;33m:\u001b[0m \u001b[0mint\u001b[0m \u001b[1;32mif\u001b[0m \u001b[0munique\u001b[0m \u001b[0mindex\u001b[0m\u001b[1;33m,\u001b[0m \u001b[0mpossibly\u001b[0m \u001b[0mslice\u001b[0m \u001b[1;32mor\u001b[0m \u001b[0mmask\u001b[0m \u001b[1;32mif\u001b[0m \u001b[1;32mnot\u001b[0m\u001b[1;33m\u001b[0m\u001b[0m\n\u001b[0;32m   1180\u001b[0m         \"\"\"\n\u001b[1;32m-> 1181\u001b[1;33m         \u001b[1;32mreturn\u001b[0m \u001b[0mself\u001b[0m\u001b[1;33m.\u001b[0m\u001b[0m_engine\u001b[0m\u001b[1;33m.\u001b[0m\u001b[0mget_loc\u001b[0m\u001b[1;33m(\u001b[0m\u001b[0m_values_from_object\u001b[0m\u001b[1;33m(\u001b[0m\u001b[0mkey\u001b[0m\u001b[1;33m)\u001b[0m\u001b[1;33m)\u001b[0m\u001b[1;33m\u001b[0m\u001b[0m\n\u001b[0m\u001b[0;32m   1182\u001b[0m \u001b[1;33m\u001b[0m\u001b[0m\n\u001b[0;32m   1183\u001b[0m     \u001b[1;32mdef\u001b[0m \u001b[0mget_value\u001b[0m\u001b[1;33m(\u001b[0m\u001b[0mself\u001b[0m\u001b[1;33m,\u001b[0m \u001b[0mseries\u001b[0m\u001b[1;33m,\u001b[0m \u001b[0mkey\u001b[0m\u001b[1;33m)\u001b[0m\u001b[1;33m:\u001b[0m\u001b[1;33m\u001b[0m\u001b[0m\n",
        "\u001b[1;32m/usr/local/lib/python2.7/dist-packages/pandas/index.so\u001b[0m in \u001b[0;36mpandas.index.IndexEngine.get_loc (pandas/index.c:3354)\u001b[1;34m()\u001b[0m\n",
        "\u001b[1;32m/usr/local/lib/python2.7/dist-packages/pandas/index.so\u001b[0m in \u001b[0;36mpandas.index.IndexEngine.get_loc (pandas/index.c:3234)\u001b[1;34m()\u001b[0m\n",
        "\u001b[1;32m/usr/local/lib/python2.7/dist-packages/pandas/hashtable.so\u001b[0m in \u001b[0;36mpandas.hashtable.PyObjectHashTable.get_item (pandas/hashtable.c:11908)\u001b[1;34m()\u001b[0m\n",
        "\u001b[1;32m/usr/local/lib/python2.7/dist-packages/pandas/hashtable.so\u001b[0m in \u001b[0;36mpandas.hashtable.PyObjectHashTable.get_item (pandas/hashtable.c:11861)\u001b[1;34m()\u001b[0m\n",
        "\u001b[1;31mKeyError\u001b[0m: 'churn!!'"
       ]
      }
     ],
     "prompt_number": 40
    },
    {
     "cell_type": "code",
     "collapsed": false,
     "input": [],
     "language": "python",
     "metadata": {},
     "outputs": []
    }
   ],
   "metadata": {}
  }
 ]
}