{
 "metadata": {
  "name": "",
  "signature": "sha256:fbc1f4cb9ae8aa16c3fa03efe8ae3b0c8e77618e8b52d9da14396a8de04bfa8a"
 },
 "nbformat": 3,
 "nbformat_minor": 0,
 "worksheets": [
  {
   "cells": [
    {
     "cell_type": "markdown",
     "metadata": {},
     "source": [
      "## Kaggle Competitions\n",
      "- [resource](http://www.chioka.in/kaggle-competition-solutions/)\n",
      "\n",
      "### Binary Classification\n",
      "- [loan default prediction](case%20study%20-%20kaggle%20Loan%20Default%20Prediction.ipynb)\n",
      "- [predict biological response](case%20study%20-%20kaggle%20Predicting%20a%20Biological%20Response.ipynb)\n",
      "- [Amazon Employee Access Challenge]\n",
      "- [KDD Cup 2013 - Author-Paper Identification Challenge (Track 1)]\n",
      "- [StumbleUpon Evergreen Classification Challenge]\n",
      "\n",
      "### Multiple classification\n",
      "- [Representation Learning: The Black Box Learning Challenge]\n",
      "\n",
      "### Regression & Ranking\n",
      "- [Solar Energy Prediction Contest]\n",
      "- [EMI Music Data Science Hackathon]\n",
      "- [Merck Molecular Activity Challenge]\n",
      "\n",
      "### Time Series\n",
      "- [Global Energy Forecasting Competition 2012 - Wind Forecasting]\n",
      "- [PAKDD 2014 - ASUS Malfunctional Components Prediction]\n",
      "- [Walmart Recruiting - Store Sales Forecasting]\n",
      "\n",
      "### Image Classification\n",
      "- [Representation Learning: Facial Expression Recognition Challenge - multiclassification]\n",
      "- [Galaxy Zoo - The Galaxy Challenge]\n",
      "\n",
      "### Image & Text\n",
      "- [Challenges in Representation Learning: Multi-modal Learning]\n",
      "\n",
      "### Text Classification\n",
      "- [Insult Detection - binary classification]\n",
      "- [Large Scale Hierarchical Text Classification]\n",
      "- [Predict Closed Questions on Stack Overflow]\n",
      "- [Predict which 311 issues are most important to citizens]\n",
      "- [See Click Predict Fix - Hackathon]\n",
      "\n",
      "### Speech Classification\n",
      "- [MLSP 2013 Bird Classification]\n",
      "- [The Marinexplore and Cornell University Whale Detection Challenge]\n",
      "\n",
      "### Bayesian Inference\n",
      "- [Observing Dark Worlds]"
     ]
    },
    {
     "cell_type": "code",
     "collapsed": false,
     "input": [],
     "language": "python",
     "metadata": {},
     "outputs": []
    }
   ],
   "metadata": {}
  }
 ]
}